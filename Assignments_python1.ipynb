{
  "nbformat": 4,
  "nbformat_minor": 0,
  "metadata": {
    "colab": {
      "provenance": []
    },
    "kernelspec": {
      "name": "python3",
      "display_name": "Python 3"
    },
    "language_info": {
      "name": "python"
    }
  },
  "cells": [
    {
      "cell_type": "code",
      "execution_count": null,
      "metadata": {
        "id": "fWBAOezn3OQj"
      },
      "outputs": [],
      "source": [
        "# Question 1.1: Write the Answer to these questions.\n",
        "# Note: Give at least one example for each off the questions"
      ]
    },
    {
      "cell_type": "code",
      "source": [
        "# What is te difference between static and dynamic variables in Python?\n",
        "# Ans>>\n",
        "# Static Variables:\n",
        "# Definition: In Python, what might be referred to as \"static variables\" are typically class variables. These are variables that are shared across all instances of a class.\n",
        "# They are defined within a class but outside of any instance methods.\n",
        "# Usage: Class variables can be used to store information that is common to all instances of the class. For example, they might be used to keep a count of all instances created.\n",
        "class MyClass:\n",
        "    static_variable = 0  # This is a class variable\n",
        "\n",
        "    def __init__(self, value):\n",
        "        self.value = value\n",
        "        MyClass.static_variable += 1\n",
        "\n",
        "# Accessing class variable\n",
        "print(MyClass.static_variable)\n",
        "\n",
        "\n",
        "# Dynamic variable :\n",
        "# Definition: What might be referred to as \"dynamic variables\" are typically instance variables in Python. These are variables that are specific to each instance of a class.\n",
        "# they are usually defined within the __init__ method or other instance methods.\n",
        "# Usage: Instance variables store data that is unique to each instance of the class. For example, they might be used to store the state of an object.\n",
        "class MyClass:\n",
        "    def __init__(self, value):\n",
        "        self.instance_variable = value  # This is an instance variable\n",
        "\n",
        "# Creating instances with their own instance variables\n",
        "obj1 = MyClass(10)\n",
        "obj2 = MyClass(20)\n",
        "\n",
        "print(obj1.instance_variable)  # Output: 10\n",
        "print(obj2.instance_variable)  # Output: 20"
      ],
      "metadata": {
        "colab": {
          "base_uri": "https://localhost:8080/"
        },
        "id": "7cfYi3-a4Ana",
        "outputId": "46aa6e6a-7b23-4263-ec29-c8cceaf9ea21"
      },
      "execution_count": 1,
      "outputs": [
        {
          "output_type": "stream",
          "name": "stdout",
          "text": [
            "0\n",
            "10\n",
            "20\n"
          ]
        }
      ]
    },
    {
      "cell_type": "code",
      "source": [
        "# Explain te purpose of \"pop\",\"popitem\",\"clear()\" in a dictionary with suitable examples.\n",
        "# Ans>>\n",
        "# The pop() method removes the specified key and returns the corresponding value. If the key is not found, it can return a default value if provided, otherwise, it raises a KeyError\n",
        "# syntax : dict.pop(key, default)\n",
        "my_dict = {'name': 'Alice', 'age': 30, 'city': 'New York'}\n",
        "\n",
        "# Remove and return the value associated with 'age'\n",
        "age = my_dict.pop('age')\n",
        "print(age)  # Output: 30\n",
        "print(my_dict)  # Output: {'name': 'Alice', 'city': 'New York'}\n",
        "\n",
        "# Using default value if key not found\n",
        "gender = my_dict.pop('gender', 'Unknown')\n",
        "print(gender)  # Output: Unknow\n",
        "\n",
        "# The popitem() method removes and returns the last inserted key-value pair as a tuple. If the dictionary is empty, it raises a KeyError.\n",
        "my_dict = {'name': 'Alice', 'age': 30, 'city': 'New York'}\n",
        "\n",
        "# Remove and return the last inserted item\n",
        "item = my_dict.popitem()\n",
        "print(item)  # Output: ('city', 'New York')\n",
        "print(my_dict)  # Output: {'name': 'Alice', 'age': 30}\n",
        "\n",
        "# The clear() method removes all items from the dictionary, leaving it empty.\n",
        "my_dict = {'name': 'Alice', 'age': 30, 'city': 'New York'}\n",
        "\n",
        "# Clear all items from the dictionary\n",
        "my_dict.clear()\n",
        "print(my_dict)  # Output: {}"
      ],
      "metadata": {
        "colab": {
          "base_uri": "https://localhost:8080/"
        },
        "id": "EN8B8Mh25e40",
        "outputId": "ac0a35cf-f8c4-4a05-f482-3499109fe5d2"
      },
      "execution_count": 2,
      "outputs": [
        {
          "output_type": "stream",
          "name": "stdout",
          "text": [
            "30\n",
            "{'name': 'Alice', 'city': 'New York'}\n",
            "Unknown\n",
            "('city', 'New York')\n",
            "{'name': 'Alice', 'age': 30}\n",
            "{}\n"
          ]
        }
      ]
    },
    {
      "cell_type": "code",
      "source": [
        "# What do you mean by FrozenSet? Explain it with suitable examples.\n",
        "# Ans>.\n",
        "# In Python, a frozenset is an immutable version of a set. Like a set, a frozenset is an unordered collection of unique elements, but unlike a set,once a frozenset is created\n",
        "# its elements cannot be modified—meaning you cannot add, remove, or update elements in a frozenset.\n",
        "\n",
        "# Creating a frozenset from a list\n",
        "fs1 = frozenset([1, 2, 3, 4])\n",
        "print(fs1)  # Output: frozenset({1, 2, 3, 4})\n",
        "\n",
        "# Creating a frozenset from a set\n",
        "fs2 = frozenset({1, 2, 2, 3})\n",
        "print(fs2)  # Output: frozenset({1, 2, 3})\n",
        "\n",
        "# Creating an empty frozenset\n",
        "fs3 = frozenset()\n",
        "print(fs3)  # Output: frozenset()\n"
      ],
      "metadata": {
        "colab": {
          "base_uri": "https://localhost:8080/"
        },
        "id": "jO57Z1_b7Xbb",
        "outputId": "4b7041f9-0a2e-41b6-fc3c-8b28ba2a0229"
      },
      "execution_count": 3,
      "outputs": [
        {
          "output_type": "stream",
          "name": "stdout",
          "text": [
            "frozenset({1, 2, 3, 4})\n",
            "frozenset({1, 2, 3})\n",
            "frozenset()\n"
          ]
        }
      ]
    },
    {
      "cell_type": "code",
      "source": [
        "# Differentiate between mutable and immutable data types in Python and give examples of mutable and immutable data types.\n",
        "# Ans>>\n",
        "# Mutable Data Types\n",
        "# Mutable data types are types whose instances can be altered. This means that the data in the object can be changed or updated without creating a new object. Common mutable data types in Python include:\n",
        "my_list = [1, 2, 3]\n",
        "my_list.append(4)\n",
        "my_list[0] = 10\n",
        "\n",
        "my_list\n",
        "\n",
        "# Immutable Data Types\n",
        "# Immutable data types are types whose instances cannot be altered once they are created. Any operation that seems to modify an immutable object will actually create a new object.\n",
        "\n",
        "my_string = \"hello\"\n",
        "new_string = my_string.upper()  # new_string is \"HELLO\", my_string remains \"hello\"\n",
        "\n",
        "new_string\n",
        "\n"
      ],
      "metadata": {
        "colab": {
          "base_uri": "https://localhost:8080/",
          "height": 36
        },
        "id": "AIj4XB119Mlu",
        "outputId": "bc5d2d66-ca8f-4fad-db8a-7a1e612131a4"
      },
      "execution_count": 4,
      "outputs": [
        {
          "output_type": "execute_result",
          "data": {
            "text/plain": [
              "'HELLO'"
            ],
            "application/vnd.google.colaboratory.intrinsic+json": {
              "type": "string"
            }
          },
          "metadata": {},
          "execution_count": 4
        }
      ]
    },
    {
      "cell_type": "code",
      "source": [
        "# What is __init__? Explain with an example.\n",
        "# Ans>>\n",
        "# The __init__ method in Python is a special method that is automatically called when a new instance of a class is created.\n",
        "# It is commonly known as a constructor, and it is used to initialize the attributes of the class.\n",
        "# Example:\n",
        "class Person:\n",
        "    def __init__(self, name, age):\n",
        "        # Initializing instance attributes\n",
        "        self.name = name\n",
        "        self.age = age\n",
        "\n",
        "    def display_info(self):\n",
        "        print(f\"Name: {self.name}, Age: {self.age}\")\n",
        "\n",
        "# Creating instances of the Person class\n",
        "person1 = Person(\"Alice\", 30)\n",
        "person2 = Person(\"Bob\", 25)\n",
        "\n",
        "# Accessing attributes and methods\n",
        "person1.display_info()  # Output: Name: Alice, Age: 30\n",
        "person2.display_info()  # Output: Name: Bob, Age: 25\n"
      ],
      "metadata": {
        "colab": {
          "base_uri": "https://localhost:8080/"
        },
        "id": "pi6yriVLAa-2",
        "outputId": "ffd2ff5f-34df-4561-e150-d97268c01e48"
      },
      "execution_count": 5,
      "outputs": [
        {
          "output_type": "stream",
          "name": "stdout",
          "text": [
            "Name: Alice, Age: 30\n",
            "Name: Bob, Age: 25\n"
          ]
        }
      ]
    },
    {
      "cell_type": "code",
      "source": [
        "# What is docstring in Python?Explain with an example.\n",
        "# ans >>\n",
        "# In Python, a docstring (short for documentation string) is a special kind of string that is used to document a specific segment of code.\n",
        "# Docstrings are enclosed within triple quotes (\"\"\" or ''') and are typically placed at the beginning of modules, classes, functions, or methods.\n",
        "\n",
        "class Calculator:\n",
        "\n",
        "    def add(self, a, b):\n",
        "        return a + b\n",
        "\n",
        "    def subtract(self, a, b):\n",
        "        return a - b\n",
        "\n",
        "# Accessing the docstrings\n",
        "print(Calculator.__doc__)\n",
        "print(Calculator.add.__doc__)\n"
      ],
      "metadata": {
        "colab": {
          "base_uri": "https://localhost:8080/"
        },
        "id": "aL-2xrh8ChcQ",
        "outputId": "86384508-e745-481d-86c8-15e1da22cf80"
      },
      "execution_count": 6,
      "outputs": [
        {
          "output_type": "stream",
          "name": "stdout",
          "text": [
            "None\n",
            "None\n"
          ]
        }
      ]
    },
    {
      "source": [
        "# What are unit tests in Python?\n",
        "# Ans>>\n",
        "# Unit tests in Python are a type of software testing that involves verifying the correctness of individual units or components of a codebase.\n",
        "# These units can be functions, methods, or classes. The primary purpose of unit testing is to ensure that each unit of the software performs as expected and to detect any issues early in the development process.\n",
        "import unittest\n",
        "\n",
        "# The function to be tested\n",
        "def add(a, b):\n",
        "    return a + b\n",
        "\n",
        "# Unit test class\n",
        "class TestMathFunctions(unittest.TestCase):\n",
        "\n",
        "    def test_add(self):\n",
        "        # Test case 1: Positive numbers\n",
        "        self.assertEqual(add(2, 3), 5)\n",
        "\n",
        "        # Test case 2: Negative numbers\n",
        "        self.assertEqual(add(-1, -1), -2)\n",
        "\n",
        "        # Test case 3: Mixed numbers\n",
        "        self.assertEqual(add(-1, 5), 4)\n",
        "\n",
        "    def test_add_with_zero(self):\n",
        "        # Test case: Adding zero\n",
        "        self.assertEqual(add(0, 5), 5)\n",
        "        self.assertEqual(add(5, 0), 5)\n",
        "\n",
        "# Running the tests\n",
        "if __name__ == '__main__':\n",
        "    # Create a test suite\n",
        "    suite = unittest.TestLoader().loadTestsFromTestCase(TestMathFunctions)\n",
        "\n",
        "    # Create a test runner and run the tests\n",
        "    runner = unittest.TextTestRunner()\n",
        "    runner.run(suite)  # This will print the test results to the console"
      ],
      "cell_type": "code",
      "metadata": {
        "colab": {
          "base_uri": "https://localhost:8080/"
        },
        "id": "6PQdoUfMFWnA",
        "outputId": "9d7a5da3-2ccb-473c-e21d-977060fe4434"
      },
      "execution_count": 7,
      "outputs": [
        {
          "output_type": "stream",
          "name": "stderr",
          "text": [
            "..\n",
            "----------------------------------------------------------------------\n",
            "Ran 2 tests in 0.004s\n",
            "\n",
            "OK\n"
          ]
        }
      ]
    },
    {
      "cell_type": "code",
      "source": [
        "# What is break, continue and pass in Pyton?\n",
        "# Ans>>\n",
        "# In Python, break, continue, and pass are control flow statements that are used within loops and conditionals to alter the execution flow of the program. Each serves a different purpose:\n",
        "# 1. break : The break statement is used to terminate the nearest enclosing loop prematurely. When a break statement is encountered, the loop stops executing,\n",
        "# and control is transferred to the statement immediately following the loop.\n",
        "# Using break in a loop\n",
        "for i in range(10):\n",
        "    if i == 5:\n",
        "        break  # Loop terminates when i is 5\n",
        "    print(i)\n",
        "# Output: 0, 1, 2, 3, 4\n",
        "\n",
        "# 2.Continue :The continue statement is used to skip the current iteration of the nearest enclosing loop and proceed to the next iteration.\n",
        "# When continue is encountered, the rest of the code inside the loop for the current iteration is skipped, and the loop proceeds with the next iteration.\n",
        "# Using continue in a loop\n",
        "for i in range(10):\n",
        "    if i % 2 == 0:\n",
        "        continue  # Skip the rest of the loop body if i is even\n",
        "    print(i)\n",
        "# Output: 1, 3, 5, 7, 9\n",
        "\n",
        "# 3.pass :The pass statement is a no-operation statement that does nothing when executed. It is used as a placeholder in code where a statement is syntactically required but where no action is needed.\n",
        "#  This can be useful in situations where code is being developed and the programmer hasn't yet written the implementation, or in defining empty classes, functions, or loops.\n",
        "# Using pass in a loop\n",
        "for i in range(5):\n",
        "    if i == 3:\n",
        "        pass  # Does nothing, serves as a placeholder\n",
        "    print(i)\n",
        "# Output: 0, 1, 2, 3, 4\n",
        "\n",
        "# Using pass in a function definition\n",
        "def function_placeholder():\n",
        "    pass  # Placeholder for future code\n",
        "\n",
        "# Using pass in class definition\n",
        "class MyClass:\n",
        "    pass  # Empty class definition\n",
        "\n",
        "\n",
        "\n"
      ],
      "metadata": {
        "colab": {
          "base_uri": "https://localhost:8080/"
        },
        "id": "NTGKXJNUFOAY",
        "outputId": "71165ab9-f922-4d53-fa0a-f2fe7a56dbfb"
      },
      "execution_count": 8,
      "outputs": [
        {
          "output_type": "stream",
          "name": "stdout",
          "text": [
            "0\n",
            "1\n",
            "2\n",
            "3\n",
            "4\n",
            "1\n",
            "3\n",
            "5\n",
            "7\n",
            "9\n",
            "0\n",
            "1\n",
            "2\n",
            "3\n",
            "4\n"
          ]
        }
      ]
    },
    {
      "cell_type": "code",
      "source": [
        "# What is the use of self in Pyton?\n",
        "# Ans>>\n",
        "# In Python, self is a conventional name used to refer to the instance of the class in class methods. It is not a keyword in Python but a strong convention.\n",
        "# The first parameter of any instance method in a class is self, which refers to the object itself when the method is called.\n",
        "class Dog:\n",
        "    def __init__(self, name, age):\n",
        "        self.name = name  # `self.name` is an instance variable\n",
        "        self.age = age    # `self.age` is another instance variable\n",
        "\n",
        "    def bark(self):\n",
        "        return f\"{self.name} says woof!\"\n",
        "\n",
        "    def get_age(self):\n",
        "        return f\"{self.name} is {self.age} years old.\"\n",
        "\n",
        "# Creating instances of the Dog class\n",
        "dog1 = Dog(\"Buddy\", 3)\n",
        "dog2 = Dog(\"Daisy\", 5)\n",
        "\n",
        "# Accessing methods and attributes using instances\n",
        "print(dog1.bark())        # Output: Buddy says woof!\n",
        "print(dog2.get_age())     # Output: Daisy is 5 years old.\n",
        "\n"
      ],
      "metadata": {
        "colab": {
          "base_uri": "https://localhost:8080/"
        },
        "id": "HL1G9WW9HVVl",
        "outputId": "d05b58c0-3321-4d21-96ff-3162c1a5ca27"
      },
      "execution_count": 9,
      "outputs": [
        {
          "output_type": "stream",
          "name": "stdout",
          "text": [
            "Buddy says woof!\n",
            "Daisy is 5 years old.\n"
          ]
        }
      ]
    },
    {
      "cell_type": "code",
      "source": [
        "# What are global, protected and private attributes in Pyton?\n",
        "# ans>>\n",
        "# 1. Global Attributes >> Global attributes are variables that are defined at the top level of a script or module, outside of any class or function.\n",
        "# They can be accessed and modified from anywhere within the same module or script.\n",
        "# a. Global variable\n",
        "global_var = \"I am global!\"\n",
        "\n",
        "def access_global():\n",
        "    print(global_var)\n",
        "\n",
        "class Example:\n",
        "    def show_global(self):\n",
        "        print(global_var)\n",
        "\n",
        "access_global()  # Output: I am global!\n",
        "example = Example()\n",
        "example.show_global()  # Output: I am global!\n",
        "\n",
        "# b.Protected Attributes:  Protected attributes are intended to be accessible only within their class and subclasses. By convention, these attributes are preceded by a single underscore (_).\n",
        "# This naming convention indicates that the attribute is intended for internal use and should not be accessed directly from outside the class.\n",
        "class Base:\n",
        "    def __init__(self):\n",
        "        self._protected_var = \"I am protected!\"\n",
        "\n",
        "class Derived(Base):\n",
        "    def access_protected(self):\n",
        "        return self._protected_var\n",
        "\n",
        "base = Base()\n",
        "print(base._protected_var)  # Output: I am protected! (not recommended)\n",
        "\n",
        "derived = Derived()\n",
        "print(derived.access_protected())  # Output: I am protected!\n",
        "\n",
        "# c.Private Attributes : Private attributes are intended to be accessible only within their class. They are denoted by prefixing the attribute name with a double underscore (__).\n",
        "# This triggers name mangling, where the interpreter changes the name of the attribute to include the class name, making it harder\n",
        "# This is done to prevent accidental access or modification, but it can still be bypassed if necessary.\n",
        "class MyClass:\n",
        "    def __init__(self):\n",
        "        self.__private_var = \"I am private!\"\n",
        "\n",
        "    def get_private(self):\n",
        "        return self.__private_var\n",
        "\n",
        "obj = MyClass()\n",
        "# print(obj.__private_var)  # This will raise an AttributeError\n",
        "\n",
        "# Accessing the private variable using name mangling\n",
        "print(obj._MyClass__private_var)  # Output: I am private! (not recommended)\n",
        "\n",
        "# Proper way to access private attribute\n",
        "print(obj.get_private())  # Output: I am private!\n",
        "\n",
        "\n",
        "\n"
      ],
      "metadata": {
        "colab": {
          "base_uri": "https://localhost:8080/"
        },
        "id": "bdu-hoGgI0e9",
        "outputId": "9de6352f-6468-4306-c2e1-73b44df28879"
      },
      "execution_count": 10,
      "outputs": [
        {
          "output_type": "stream",
          "name": "stdout",
          "text": [
            "I am global!\n",
            "I am global!\n",
            "I am protected!\n",
            "I am protected!\n",
            "I am private!\n",
            "I am private!\n"
          ]
        }
      ]
    },
    {
      "cell_type": "code",
      "source": [
        "# What are modules and packages in Pyhton?\n",
        "# Ans>>\n",
        "# In Python, modules and packages are organizational tools that help manage code by grouping related functions, classes, and variables together.\n",
        "# They allow for code reusability, modularity, and better organization, making it easier to maintain and scale Python projects.\n",
        "\n",
        "# Modules ::\n",
        "# Modules are individual files containing Python code. A module can contain functions, classes, variables, and runnable code.\n",
        "# The primary purpose of a module is to group related code into a single file, making it easier to manage and reuse.\n",
        "def add(a, b):\n",
        "    return a + b\n",
        "\n",
        "def subtract(a, b):\n",
        "    return a - b\n",
        "\n",
        "PI = 3.14159\n",
        "\n",
        "# Packages ::\n",
        "# Packages are a way of organizing related modules into directories. A package is a directory that contains multiple modules and a special file named __init__.py.\n",
        "# This file can be empty or contain initialization code for the package. The __init__.py file indicates that the directory should be treated as a package.\n",
        "\n",
        "\n",
        "\n"
      ],
      "metadata": {
        "id": "638rRu2nJm-G"
      },
      "execution_count": 11,
      "outputs": []
    },
    {
      "cell_type": "code",
      "source": [
        "# What are lists and tuples? What is the key difference between the two?\n",
        "# Ans>>\n",
        "# Lists and tuples are both sequence data types in Python that are used to store collections of items. They have similar functionalities but also some key differences.\n",
        "# Lists :Definition: A list is a mutable sequence, meaning its elements can be changed after the list has been created. Lists are created using square brackets ([]).\n",
        "my_list = [1, 2, 3, 'hello', 4.5]\n",
        "my_list\n",
        "\n",
        "# Tuples: Definition: A tuple is an immutable sequence, meaning its elements cannot be changed after the tuple has been created. Tuples are created using parentheses (()).\n",
        "my_tuple = (1, 2, 3, 'hello', 4.5)\n",
        "\n",
        "my_tuple\n"
      ],
      "metadata": {
        "colab": {
          "base_uri": "https://localhost:8080/"
        },
        "id": "oWArFkbwLpSq",
        "outputId": "e9cedb38-41ce-430e-98f6-7936ff446a75"
      },
      "execution_count": 12,
      "outputs": [
        {
          "output_type": "execute_result",
          "data": {
            "text/plain": [
              "(1, 2, 3, 'hello', 4.5)"
            ]
          },
          "metadata": {},
          "execution_count": 12
        }
      ]
    },
    {
      "cell_type": "code",
      "source": [
        "my_list"
      ],
      "metadata": {
        "colab": {
          "base_uri": "https://localhost:8080/"
        },
        "id": "ykc3e3I1NK2X",
        "outputId": "dafdc276-c85e-48a1-d530-e2dd391ff8f0"
      },
      "execution_count": 13,
      "outputs": [
        {
          "output_type": "execute_result",
          "data": {
            "text/plain": [
              "[1, 2, 3, 'hello', 4.5]"
            ]
          },
          "metadata": {},
          "execution_count": 13
        }
      ]
    },
    {
      "cell_type": "code",
      "source": [
        "my_tuple"
      ],
      "metadata": {
        "colab": {
          "base_uri": "https://localhost:8080/"
        },
        "id": "KbRSZ1vUOHBP",
        "outputId": "0b20d445-e59a-4dd1-ffb1-610f81cc2378"
      },
      "execution_count": 14,
      "outputs": [
        {
          "output_type": "execute_result",
          "data": {
            "text/plain": [
              "(1, 2, 3, 'hello', 4.5)"
            ]
          },
          "metadata": {},
          "execution_count": 14
        }
      ]
    },
    {
      "cell_type": "code",
      "source": [
        "# What is an Interpreted language & dynamically typed language?Write 5 dierences between them.\n",
        "# Ans>> Interpreted Language:\n",
        "# An interpreted language is a programming language in which most of the instructions are executed directly by an interpreter, rather than being compiled into machine code\n",
        "# The interpreter reads and executes the code line by line or statement by statement.\n",
        "\n",
        "# Characteristics:\n",
        "# Execution: Code is executed directly by the interpreter without the need for a separate compilation step.\n",
        "# Error Detection: Errors are typically detected at runtime.\n",
        "# Development Cycle: Faster development cycle due to immediate feedback from running code.\n",
        "# Portability: Highly portable, as the interpreter can be implemented on different platforms.\n",
        "# Examples: Python, Ruby, JavaScript.\n",
        "\n",
        "# Dynamically Typed Language: A dynamically typed language is a programming language in which types are checked at runtime rather than at compile-time.\n",
        "# This means that variables do not have a fixed type and can hold values of different types during execution.\n",
        "# Characteristics:\n",
        "# Type Checking: Types are determined at runtime, and type errors are only caught when the code is executed.\n",
        "# Flexibility: Variables can be reassigned to values of different types.\n",
        "# Error Detection: Type-related errors are detected during runtime.\n",
        "# Development Speed: Can lead to faster development as type information is not required at compile time.\n",
        "\n",
        "# Key Differences Between Interpreted Languages and Dynamically Typed Languages\n",
        "# 1. Definition:\n",
        "'''Interpreted Language: Refers to the way code is executed by an interpreter.\n",
        " Dynamically Typed Language: Refers to how types are handled and checked during execution.'''\n",
        "\n",
        "# 2.Execution:\n",
        "''' Interpreted Language: Executes code line by line or statement by statement.\n",
        "Dynamically Typed Language: Execution does not inherently depend on whether the language is interpreted or compiled; it focuses on type handling.'''\n",
        "\n",
        "# 3.Type Checking:\n",
        "'''Interpreted Language: Type checking can be either dynamic or static, depending on the language.\n",
        "Dynamically Typed Language: Type checking is dynamic, occurring at runtime.'''\n",
        "\n",
        "# 4.Compilation:\n",
        "''' Interpreted Language: Does not require a separate compilation step; code is executed directly by the interpreter.\n",
        "Dynamically Typed Language: Can be either interpreted or compiled, but its dynamic type system remains the same regardless of the execution method.'''\n",
        "\n",
        "# 5.Error Handling:\n",
        "''' Interpreted Language: Errors are detected and reported during runtime as the interpreter processes the code.\n",
        "Dynamically Typed Language: Type-related errors are also detected at runtime, but the language’s dynamic nature means type errors are a specific category of runtime errors.'''"
      ],
      "metadata": {
        "colab": {
          "base_uri": "https://localhost:8080/",
          "height": 53
        },
        "id": "FY8QBANoOJHA",
        "outputId": "23728b72-92af-440b-9a9e-fd35635dc026"
      },
      "execution_count": 15,
      "outputs": [
        {
          "output_type": "execute_result",
          "data": {
            "text/plain": [
              "' Interpreted Language: Errors are detected and reported during runtime as the interpreter processes the code.\\nDynamically Typed Language: Type-related errors are also detected at runtime, but the language’s dynamic nature means type errors are a specific category of runtime errors.'"
            ],
            "application/vnd.google.colaboratory.intrinsic+json": {
              "type": "string"
            }
          },
          "metadata": {},
          "execution_count": 15
        }
      ]
    },
    {
      "cell_type": "code",
      "source": [
        "# What are Dict and List compreensions?\n",
        "# Ans>> Dictionary (dict) comprehensions and list comprehensions are concise ways to create dictionaries and lists in Python.\n",
        "# They provide a more readable and compact syntax for creating these data structures compared to traditional methods using loops.\n",
        "\n",
        "# List Comprehensions:\n",
        "# A list comprehension provides a compact way to create lists. The syntax is [expression for item in iterable if condition], where:\n",
        "# expression is the value to be included in the new list.item represents each element in the iterable (e.g., list, range).\n",
        "# condition is optional and filters the elements to be included based on a Boolean expression.\n",
        "# Creating a list of squares of numbers from 0 to 4\n",
        "squares = [x ** 2 for x in range(5)]\n",
        "print(squares)  # Output: [0, 1, 4, 9, 16]\n",
        "\n",
        "\n",
        "# Dictionary Comprehensions:\n",
        "# A dictionary comprehension allows you to create dictionaries in a similar manner to list comprehensions. The syntax is {key_expression: value_expression for item in iterable if condition} where:\n",
        "# key_expression is the key for the dictionary.\n",
        "# value_expression is the value associated with the key.\n",
        "# item represents each element in the iterable.\n",
        "# condition is optional and filters which items are included in the dictionary.\n",
        "\n",
        "# Creating a dictionary with numbers as keys and their squares as values\n",
        "squares_dict = {x: x ** 2 for x in range(5)}\n",
        "print(squares_dict)  # Output: {0: 0, 1: 1, 2: 4, 3: 9, 4: 16}\n",
        "\n",
        "\n"
      ],
      "metadata": {
        "colab": {
          "base_uri": "https://localhost:8080/"
        },
        "id": "pRf6q35PO95m",
        "outputId": "a61955e8-8912-4879-a3ca-ffa7067319b7"
      },
      "execution_count": 16,
      "outputs": [
        {
          "output_type": "stream",
          "name": "stdout",
          "text": [
            "[0, 1, 4, 9, 16]\n",
            "{0: 0, 1: 1, 2: 4, 3: 9, 4: 16}\n"
          ]
        }
      ]
    },
    {
      "cell_type": "code",
      "source": [
        "# Q.What are decorators in Python? Explain it with an example.Write down its use cases.\n",
        "# Ans>>\n",
        "# Decorators in Python are a powerful and flexible way to modify or extend the behavior of functions or methods without permanently modifying their source code.\n",
        "# They are essentially functions that wrap another function or method, allowing you to add functionality before or after the wrapped function is called.\n",
        "# Example:\n",
        "def log_decorator(func):\n",
        "    def wrapper(*args, **kwargs):\n",
        "        print(f\"Function '{func.__name__}' called with args: {args} and kwargs: {kwargs}\")\n",
        "        return func(*args, **kwargs)\n",
        "    return wrapper\n",
        "\n",
        "@log_decorator\n",
        "def add(a, b):\n",
        "    return a + b\n",
        "\n",
        "result = add(3, 5)\n",
        "print(result)\n",
        "\n",
        "\n",
        "# Use Cases for Decorators:\n",
        "# Logging: Automatically log information about function calls, which is useful for debugging and monitoring.\n",
        "# Authentication: Check if a user has the necessary permissions to execute a function.\n",
        "# Timing: Measure the time a function takes to execute, which can be useful for performance analysis.\n",
        "# Caching: Cache the results of expensive function calls and return the cached result when the same inputs occur agai\n",
        "# Validation: Validate the inputs to a function before executing it, ensuring that they meet certain criteria."
      ],
      "metadata": {
        "id": "Ydgjjl4SSmL0",
        "colab": {
          "base_uri": "https://localhost:8080/"
        },
        "outputId": "d2d75d6c-e6d9-4555-8f3e-624e434551d0"
      },
      "execution_count": 17,
      "outputs": [
        {
          "output_type": "stream",
          "name": "stdout",
          "text": [
            "Function 'add' called with args: (3, 5) and kwargs: {}\n",
            "8\n"
          ]
        }
      ]
    },
    {
      "cell_type": "code",
      "source": [
        "# Q.How is memory managed in Python?\n",
        "# Ans>> Memory management in Python involves the allocation and deallocation of memory to store data objects. Python uses a combination of techniques to manage memory efficiently, including\n",
        "# automatic garbage collection, reference counting, and memory pooling. Here's a brief overview of how these mechanisms work:\n",
        "#1.Reference Counting\n",
        "#2.Garbage Collection\n",
        "#3.Memory Pools and Arenas\n",
        "#4.Object-Specific Allocators"
      ],
      "metadata": {
        "id": "NYk4D-0UTNvo"
      },
      "execution_count": 18,
      "outputs": []
    },
    {
      "cell_type": "code",
      "source": [
        "# Q.What is lambda in Python? Why is it used?\n",
        "# Ans>>\n",
        "# In Python, a lambda is a way to create small, anonymous functions—functions without a name—using a special syntax. These functions are often used for short, simple operations and are defined using the lambda keyword.\n",
        "add = lambda x, y: x + y\n",
        "print(add(2, 3))  # Output: 5\n",
        "\n",
        "# Use Cases for lambda Functions:\n",
        "# Simplicity: Lambda functions are used for simple, short functions where using a full def statement would be unnecessarily verbose\n",
        "# Higher-Order Functions: Lambda functions are often used in conjunction with higher-order functions like map(), filter(), and reduce(), where a function is applied to elements in a list or iterable."
      ],
      "metadata": {
        "colab": {
          "base_uri": "https://localhost:8080/"
        },
        "id": "zt4JtVmoAJoh",
        "outputId": "cbc61719-46af-42c1-9c95-0a176a22c420"
      },
      "execution_count": 19,
      "outputs": [
        {
          "output_type": "stream",
          "name": "stdout",
          "text": [
            "5\n"
          ]
        }
      ]
    },
    {
      "cell_type": "code",
      "source": [
        "# Q.Explain split() and join() functions in Pyhton?\n",
        "# Ans>>\n",
        "# In Python, split() and join() are two commonly used string methods that facilitate the manipulation of strings.\n",
        "\n",
        "# split() Method:\n",
        "# The split() method is used to divide a string into a list of substrings based on a specified delimiter (separator). If no delimiter is provided, the method uses whitespace (space, newline, tab, etc.) as the default delimiter.\n",
        "text = \"Python is fun\"\n",
        "words = text.split()\n",
        "print(words)  # Output: ['Python', 'is', 'fun']\n",
        "\n",
        "data = \"apple,orange,banana,grape\"\n",
        "fruits = data.split(\",\")\n",
        "print(fruits)  # Output: ['apple', 'orange', 'banana', 'grape']\n",
        "\n",
        "text = \"one:two:three:four\"\n",
        "parts = text.split(\":\", maxsplit=2)\n",
        "print(parts)  # Output: ['one', 'two', 'three:four']\n",
        "\n",
        "\n",
        "# join() Method:The join() method is used to concatenate a list (or any iterable) of strings into a single string, with each element separated by a specified delimiter.\n",
        "words = ['Python', 'is', 'fun']\n",
        "sentence = \" \".join(words)\n",
        "print(sentence)  # Output: 'Python is fun'\n",
        "\n",
        "fruits = ['apple', 'orange', 'banana', 'grape']\n",
        "result = \",\".join(fruits)\n",
        "print(result)  # Output: 'apple,orange,banana,grape'\n",
        "\n",
        "\n",
        "\n",
        "\n",
        "\n"
      ],
      "metadata": {
        "colab": {
          "base_uri": "https://localhost:8080/"
        },
        "id": "kQMn295FAnKG",
        "outputId": "74fa5d6d-edce-4392-b19b-43bd9e1bf49e"
      },
      "execution_count": 20,
      "outputs": [
        {
          "output_type": "stream",
          "name": "stdout",
          "text": [
            "['Python', 'is', 'fun']\n",
            "['apple', 'orange', 'banana', 'grape']\n",
            "['one', 'two', 'three:four']\n",
            "Python is fun\n",
            "apple,orange,banana,grape\n"
          ]
        }
      ]
    },
    {
      "cell_type": "code",
      "source": [
        "# Q.What are iterators , iterable & generators in Python?\n",
        "# Ans>>\n",
        "# 1. Iterables:An iterable is any Python object that can return its members one at a time, allowing it to be looped over in a for loop. Common examples of iterables include\n",
        "# lists, tuples, strings, dictionaries, and sets. In Python, an object is considered iterable if it implements the __iter__() method, which returns an iterator.\n",
        "my_list = [1, 2, 3, 4, 5]\n",
        "for item in my_list:\n",
        "    print(item)\n",
        "\n",
        "# 2. Iterators :An iterator is an object that represents a stream of data; it returns the data one element at a time when called repeatedly. Iterators implement two key methods:\n",
        "# __iter__(): Returns the iterator object itself, typically self. This method allows the object to be used in for loops and other places where an iterable is required.\n",
        "# __next__(): Returns the next item from the iterator. When there are no more items to return, it raises the StopIteration exception.\n",
        "my_list = [1, 2, 3]\n",
        "iterator = iter(my_list)  # Obtain an iterator from an iterable\n",
        "\n",
        "print(next(iterator))  # Output: 1\n",
        "print(next(iterator))  # Output: 2\n",
        "print(next(iterator))  # Output: 3\n",
        "# next(iterator) would raise StopIteration here, as there are no more items\n",
        "\n",
        "# 3. Generators:Generators are a special type of iterator that allow you to iterate over data without storing the entire sequence in memory at once.\n",
        "# They are defined using a function, but instead of returning a single value, a generator function yields a series of values using the yield statement. Each call to yield\n",
        "# produces a value, and the state of the generator function is preserved between calls, so that execution can be resumed later.\n",
        "# Generator Functions: Use the yield statement.\n",
        "# Generator Expressions: Similar to list comprehensions, but use parentheses instead of square brackets.\n",
        "def count_up_to(max):\n",
        "    count = 1\n",
        "    while count <= max:\n",
        "        yield count\n",
        "        count += 1\n",
        "\n",
        "counter = count_up_to(5)\n",
        "for number in counter:\n",
        "    print(number)\n",
        "# Output: 1, 2, 3, 4, 5\n",
        "\n"
      ],
      "metadata": {
        "colab": {
          "base_uri": "https://localhost:8080/"
        },
        "id": "RtfGEpbbBjAK",
        "outputId": "b203ec9a-f763-4623-b037-aff43e726493"
      },
      "execution_count": 21,
      "outputs": [
        {
          "output_type": "stream",
          "name": "stdout",
          "text": [
            "1\n",
            "2\n",
            "3\n",
            "4\n",
            "5\n",
            "1\n",
            "2\n",
            "3\n",
            "1\n",
            "2\n",
            "3\n",
            "4\n",
            "5\n"
          ]
        }
      ]
    },
    {
      "cell_type": "code",
      "source": [
        "# Q.What is the difference between xrange and range in Python?\n",
        "# Ans>>\n",
        "# In Python, range and xrange are functions that generate a sequence of numbers. However, they have some important differences, particularly between Python 2 and Python 3.\n",
        "# Python 2 range: Creates a list of numbers in memory.\n",
        "# Python 2 xrange: Creates an iterable that generates numbers on-the-fly, without storing them in memory.\n",
        "# Python 3 range: Combines the benefits of xrange in Python 2, generating numbers on-the-fly without creating a list in memory. xrange is no longer available in Python 3.\n",
        "numbers = range(1, 1000000)\n",
        "# numbers is a list of numbers from 1 to 999999\n"
      ],
      "metadata": {
        "id": "ZDYDY4IOCxnS"
      },
      "execution_count": 22,
      "outputs": []
    },
    {
      "cell_type": "code",
      "source": [
        "# Q.Pillars of Oops?\n",
        "# Ans>> Object-Oriented Programming (OOP) is a programming paradigm based on the concept of \"objects,\" which can contain data in the form of fields\n",
        "# (attributes or properties) and code in the form of procedures (methods). The four fundamental pillars of OOP are:\n",
        "# 1.Encapsulation:Encapsulation is the practice of bundling the data (attributes) and the methods (functions) that manipulate the data into a single unit, known as an object\n",
        "# 2.Inheritance:Inheritance allows a class to inherit attributes and methods from another class. This promotes code reuse and establishes a natural hierarchy between classes.\n",
        "# 3.Polymorphism:Polymorphism allows objects of different classes to be treated as objects of a common super class. It is often used in reference to the ability of different classes to respond to the same message\n",
        "# 4.Abstraction:Abstraction is the concept of hiding the complex implementation details and showing only the essential features of an object. It helps in reducing programming complexity and effort."
      ],
      "metadata": {
        "id": "VSvErsAXERw9"
      },
      "execution_count": 23,
      "outputs": []
    },
    {
      "cell_type": "code",
      "source": [
        "# Q.How will you check if a class is a child of another class?\n",
        "# Ans>> In Python, you can check if a class is a subclass of another class using the built-in issubclass() function or the isinstance() function if you want to check if an instance belongs to a subclass.\n",
        "# 1. Using issubclass():\n",
        "# The issubclass() function checks if a class is a subclass of another class. It returns True if the first argument is indeed a subclass of the second argument, otherwise, it returns False.\n",
        "class Animal:\n",
        "    pass\n",
        "\n",
        "class Dog(Animal):\n",
        "    pass\n",
        "\n",
        "print(issubclass(Dog, Animal))  # Output: True\n",
        "print(issubclass(Dog, object))  # Output: True, since all classes in Python inherit from object\n",
        "print(issubclass(Animal, Dog))  # Output: False\n",
        "\n",
        "\n",
        "# 2.Using isinstance():the isinstance() function is used to check if an object is an instance or subclass instance of a class or a tuple of classes.\n",
        "class Animal:\n",
        "    pass\n",
        "\n",
        "class Dog(Animal):\n",
        "    pass\n",
        "\n",
        "my_dog = Dog()\n",
        "\n",
        "print(isinstance(my_dog, Dog))     # Output: True\n",
        "print(isinstance(my_dog, Animal))  # Output: True, Dog is a subclass of Animal\n",
        "print(isinstance(my_dog, object))  # Output: True, all objects are instances of the object class\n",
        "\n",
        "\n",
        "\n"
      ],
      "metadata": {
        "colab": {
          "base_uri": "https://localhost:8080/"
        },
        "id": "80juLCQMFR8j",
        "outputId": "a5db2877-fc41-4ecf-f341-e08d40af25ff"
      },
      "execution_count": 24,
      "outputs": [
        {
          "output_type": "stream",
          "name": "stdout",
          "text": [
            "True\n",
            "True\n",
            "False\n",
            "True\n",
            "True\n",
            "True\n"
          ]
        }
      ]
    },
    {
      "cell_type": "code",
      "source": [
        "# Q.How does inheritance work in python? Explain all types of inheritance with an example.\n",
        "# Ans>> Inheritance in Python is a mechanism that allows a new class, called a child class or subclass, to inherit attributes and methods from an existing class, known as a parent class or superclass\n",
        "# This promotes code reuse and the creation of hierarchical relationships between classes.\n",
        "#  1.Single Inheritance:Single inheritance involves a child class inheriting from a single parent class. This is the simplest form of inheritance.\n",
        "class Animal:\n",
        "    def sound(self):\n",
        "        return \"Some sound\"\n",
        "\n",
        "class Dog(Animal):\n",
        "    def bark(self):\n",
        "        return \"Woof!\"\n",
        "\n",
        "# Using the subclass\n",
        "dog = Dog()\n",
        "print(dog.sound())  # Inherited method\n",
        "print(dog.bark())   # Subclass's own method\n",
        "\n",
        "# 2.Multiple Inheritance:In multiple inheritance, a child class inherits from more than one parent class. This allows the child class to access attributes and methods from all parent classes\n",
        "class Canine:\n",
        "    def canine_trait(self):\n",
        "        return \"Canine trait\"\n",
        "\n",
        "class Mammal:\n",
        "    def mammal_trait(self):\n",
        "        return \"Mammal trait\"\n",
        "\n",
        "class Dog(Canine, Mammal):\n",
        "    def bark(self):\n",
        "        return \"Woof!\"\n",
        "\n",
        "# Using the subclass\n",
        "dog = Dog()\n",
        "print(dog.canine_trait())  # From Canine\n",
        "print(dog.mammal_trait())  # From Mammal\n",
        "print(dog.bark())          # Own method\n",
        "\n",
        "# 3.Multilevel Inheritance:Multilevel inheritance occurs when a child class inherits from another child class, creating a chain of inheritance.\n",
        "class Animal:\n",
        "    def sound(self):\n",
        "        return \"Some sound\"\n",
        "\n",
        "class Mammal(Animal):\n",
        "    def has_fur(self):\n",
        "        return True\n",
        "\n",
        "class Dog(Mammal):\n",
        "    def bark(self):\n",
        "        return \"Woof!\"\n",
        "\n",
        "# Using the subclass\n",
        "dog = Dog()\n",
        "print(dog.sound())  # From Animal\n",
        "print(dog.has_fur())  # From Mammal\n",
        "print(dog.bark())     # From Dog\n",
        "\n",
        "# 4.Hierarchical Inheritance:Hierarchical inheritance occurs when multiple child classes inherit from a single parent class.\n",
        "class Animal:\n",
        "    def sound(self):\n",
        "        return \"Some sound\"\n",
        "\n",
        "class Dog(Animal):\n",
        "    def bark(self):\n",
        "        return \"Woof!\"\n",
        "\n",
        "class Cat(Animal):\n",
        "    def meow(self):\n",
        "        return \"Meow!\"\n",
        "\n",
        "# Using the subclasses\n",
        "dog = Dog()\n",
        "cat = Cat()\n",
        "print(dog.sound())  # Inherited from Animal\n",
        "print(dog.bark())   # Own method\n",
        "\n",
        "print(cat.sound())  # Inherited from Animal\n",
        "print(cat.meow())   # Own method\n",
        "\n",
        "\n",
        "# 5.Hybrid Inheritance:Hybrid inheritance is a combination of two or more types of inheritance. It can be a complex form of inheritance involving multiple and multilevel inheritance.\n",
        "class Animal:\n",
        "    def sound(self):\n",
        "        return \"Some sound\"\n",
        "\n",
        "class Mammal(Animal):\n",
        "    def has_fur(self):\n",
        "        return True\n",
        "\n",
        "class Canine:\n",
        "    def canine_trait(self):\n",
        "        return \"Canine trait\"\n",
        "\n",
        "class Dog(Mammal, Canine):\n",
        "    def bark(self):\n",
        "        return \"Woof!\"\n",
        "\n",
        "# Using the subclass\n",
        "dog = Dog()\n",
        "print(dog.sound())  # From Animal\n",
        "print(dog.has_fur())  # From Mammal\n",
        "print(dog.canine_trait())  # From Canine\n",
        "print(dog.bark())     # From Dog\n",
        "\n",
        "\n"
      ],
      "metadata": {
        "colab": {
          "base_uri": "https://localhost:8080/"
        },
        "id": "vVG9nWA1GTxB",
        "outputId": "deae644f-c576-4544-8922-b02efdbebca0"
      },
      "execution_count": 25,
      "outputs": [
        {
          "output_type": "stream",
          "name": "stdout",
          "text": [
            "Some sound\n",
            "Woof!\n",
            "Canine trait\n",
            "Mammal trait\n",
            "Woof!\n",
            "Some sound\n",
            "True\n",
            "Woof!\n",
            "Some sound\n",
            "Woof!\n",
            "Some sound\n",
            "Meow!\n",
            "Some sound\n",
            "True\n",
            "Canine trait\n",
            "Woof!\n"
          ]
        }
      ]
    },
    {
      "cell_type": "code",
      "source": [
        "# Q.What is encapsulation? Explain it with an example?\n",
        "# Ans>>\n",
        "# Encapsulation is one of the fundamental principles of object-oriented programming (OOP). It refers to the bundling of data (attributes) and the methods (functions) that operate on that data into a\n",
        "# single unit called an object. Encapsulation also involves restricting access to certain components of an object to protect the internal state and prevent unintended interference and misuse.\n",
        "\n",
        "# Key Aspects of Encapsulation:\n",
        "# data Hiding: Encapsulation allows for the internal representation of an object to be hidden from the outside.\n",
        "# Interface and Implementation Separation: By restricting access to the internal workings of an object, encapsulation separates the interface (what the object can do) from the implementation\n",
        "class BankAccount:\n",
        "    def __init__(self, owner, balance=0):\n",
        "        self.owner = owner\n",
        "        self.__balance = balance  # Private attribute\n",
        "\n",
        "    def deposit(self, amount):\n",
        "        if amount > 0:\n",
        "            self.__balance += amount\n",
        "        else:\n",
        "            print(\"Deposit amount must be positive\")\n",
        "\n",
        "    def withdraw(self, amount):\n",
        "        if 0 < amount <= self.__balance:\n",
        "            self.__balance -= amount\n",
        "        else:\n",
        "            print(\"Invalid withdrawal amount\")\n",
        "\n",
        "    def get_balance(self):\n",
        "        return self.__balance\n",
        "\n",
        "# Usage\n",
        "account = BankAccount(\"Alice\", 1000)\n",
        "account.deposit(500)\n",
        "print(account.get_balance())  # Output: 1500\n",
        "\n",
        "account.withdraw(200)\n",
        "print(account.get_balance())  # Output: 1300\n",
        "\n",
        "# Attempt to access the private attribute directly (not recommended)\n",
        "# print(account.__balance)  # AttributeError: 'BankAccount' object has no attribute '__balance'\n",
        "\n"
      ],
      "metadata": {
        "colab": {
          "base_uri": "https://localhost:8080/"
        },
        "id": "O1hRKKEVHhAZ",
        "outputId": "0b00183c-e817-4786-e164-64299ffb9be4"
      },
      "execution_count": 26,
      "outputs": [
        {
          "output_type": "stream",
          "name": "stdout",
          "text": [
            "1500\n",
            "1300\n"
          ]
        }
      ]
    },
    {
      "cell_type": "code",
      "source": [
        "# What is polymorpism? Explain it with an example.\n",
        "# Ans>> Polymorphism is a fundamental concept in object-oriented programming (OOP) that allows objects of different classes to be treated as objects of a common superclass\n",
        "# It enables a single interface to represent different underlying forms (data types). In simpler terms, polymorphism allows different\n",
        "# classes to implement methods that have the same name but behave differently based on the object's class.\n",
        "\n",
        "# Types of Polymorphism: Method Overriding (Runtime Polymorphism) , Method Overloading (Compile-time Polymorphism) , Operator Overloading\n",
        "\n",
        "class Animal:\n",
        "    def make_sound(self):\n",
        "        return \"Some generic sound\"\n",
        "\n",
        "class Dog(Animal):\n",
        "    def make_sound(self):\n",
        "        return \"Woof!\"\n",
        "\n",
        "class Cat(Animal):\n",
        "    def make_sound(self):\n",
        "        return \"Meow!\"\n",
        "\n",
        "# Function that uses polymorphism\n",
        "def animal_sound(animal):\n",
        "    print(animal.make_sound())\n",
        "\n",
        "# Using polymorphism\n",
        "dog = Dog()\n",
        "cat = Cat()\n",
        "\n",
        "animal_sound(dog)  # Output: Woof!\n",
        "animal_sound(cat)  # Output: Meow!\n",
        "\n",
        "\n"
      ],
      "metadata": {
        "colab": {
          "base_uri": "https://localhost:8080/"
        },
        "id": "9qbahC25IzeZ",
        "outputId": "3dcadf42-f503-4f06-e122-e1bd712237d3"
      },
      "execution_count": 27,
      "outputs": [
        {
          "output_type": "stream",
          "name": "stdout",
          "text": [
            "Woof!\n",
            "Meow!\n"
          ]
        }
      ]
    },
    {
      "cell_type": "code",
      "source": [
        "# Q 1.2 Which of the following identifier names are invalid and why?\n",
        "# a) Serial_no. >> Invalid: Identifiers cannot contain special characters such as dots (.).\n",
        "# b) 1st_Room  >>\n",
        "# c) Hundred$\n",
        "# d) Total_Marks\n",
        "# e) total-Marks\n",
        "# f) Total Marks\n",
        "# g) True\n",
        "# h) _Percentag\n",
        "\n",
        "# Ans>>\n",
        "\n",
        "# Rules for Valid Identifiers\n",
        "# 1.Must start with a letter (a-z, A-Z) or an underscore (_).\n",
        "# 2.Subsequent characters can be letters, digits (0-9), or underscores.\n",
        "# 3.Cannot start with a digit.\n",
        "# 4.Cannot be a reserved keyword (e.g., True, False, None).\n",
        "\n",
        "# a> Invalid: Identifiers cannot contain special characters such as dots (.)\n",
        "# b> Invalid: Identifiers cannot start with a digit. It should start with a letter or an underscore.\n",
        "# c> Invalid: Identifiers cannot contain special characters like the dollar sign ($).\n",
        "# d> Valid: This identifier starts with a letter and contains only letters and underscores, which are allowed.\n",
        "# e> Invalid: Identifiers cannot contain hyphens (-). Use underscores (_) instead.\n",
        "# f> Invalid: Identifiers cannot contain spaces.\n",
        "# g> Invalid: True is a reserved keyword in Python and cannot be used as an identifier.\n",
        "# h> Valid: This identifier starts with an underscore and contains only letters and underscores, which are allowed. (Assuming it’s not a typo and should be _Percentage.)"
      ],
      "metadata": {
        "id": "hB9_QgjqJmSB"
      },
      "execution_count": 28,
      "outputs": []
    },
    {
      "cell_type": "code",
      "source": [
        "# Question 1.3\n",
        "# name = [\"Mohan\", \"dash\", \"karam\", \"chandra\",\"gandhi\",\"Bapu\"]\n",
        "# do the following operations in this list;\n",
        "# a) add an element \"freedom_fighter\" in this list at the 0th index.\n",
        "# b) find the output of the following ,and explain how?\n",
        "# name = [“freedomFighter”,\"Bapuji\",\"MOhan\" \"dash\", \"karam\",\n",
        "# \"chandra\",\"gandhi\"]\n",
        "# length1=len((name[-len(name)+1:-1:2]))\n",
        "# length2=len((name[-len(name)+1:-1]))\n",
        "# print(length1+length2)\n",
        "\n",
        "# c) add two more elements in the name [\"NetaJi\",\"Bose\"] at the end of the list.\n",
        "# d) what will be the value of temp:\n",
        "# name = [\"Bapuji\", \"dash\", \"karam\", \"chandra\",\"gandi\",\"Mohan\"]\n",
        "# temp=name[-1]\n",
        "# name[-1]=name[0]\n",
        "# name[0]=temp\n",
        "# print(name)\n",
        "\n",
        "# Ans>>\n",
        "# a >>\n",
        "name = [\"Mohan\", \"dash\", \"karam\", \"chandra\", \"gandhi\", \"Bapu\"]\n",
        "name.insert(0, \"freedom_fighter\")\n",
        "print(name)\n",
        "\n",
        "# b>>\n",
        "name = [\"freedomFighter\", \"Bapuji\", \"MOhan\", \"dash\", \"karam\", \"chandra\", \"gandhi\"]\n",
        "length1 = len(name[-len(name)+1:-1:2])\n",
        "length2 = len(name[-len(name)+1:-1])\n",
        "print(length1 + length2)\n",
        "\n",
        "length1 = len(name[-len(name)+1:-1:2])\n",
        "length2 = len(name[-len(name)+1:-1])\n",
        "print(length1 + length2)\n",
        "\n",
        "\n",
        "# C>>\n",
        "name.append(\"NetaJi\")\n",
        "name.append(\"Bose\")\n",
        "print(name)\n",
        "\n",
        "# D>>\n",
        "\n",
        "['freedomFighter', 'Bapuji', 'MOhan', 'dash', 'karam', 'chandra', 'gandhi', 'NetaJi', 'Bose']\n",
        "name = [\"Bapuji\", \"dash\", \"karam\", \"chandra\", \"gandi\", \"Mohan\"]\n",
        "temp = name[-1]\n",
        "name[-1] = name[0]\n",
        "name[0] = temp\n",
        "print(name)\n",
        "\n",
        "\n",
        "\n"
      ],
      "metadata": {
        "colab": {
          "base_uri": "https://localhost:8080/"
        },
        "id": "A_oD4ozcKb3Y",
        "outputId": "1b862438-d857-41e3-e5e3-7be9f6d97695"
      },
      "execution_count": 29,
      "outputs": [
        {
          "output_type": "stream",
          "name": "stdout",
          "text": [
            "['freedom_fighter', 'Mohan', 'dash', 'karam', 'chandra', 'gandhi', 'Bapu']\n",
            "8\n",
            "8\n",
            "['freedomFighter', 'Bapuji', 'MOhan', 'dash', 'karam', 'chandra', 'gandhi', 'NetaJi', 'Bose']\n",
            "['Mohan', 'dash', 'karam', 'chandra', 'gandi', 'Bapuji']\n"
          ]
        }
      ]
    },
    {
      "cell_type": "code",
      "source": [
        "# Question 1.4.Find the output of the following.\n",
        "# animal = ['Human','cat','mat','cat','rat','Human', 'Lion']\n",
        "# print(animal.count('Human'))\n",
        "# print(animal.index('rat'))\n",
        "# print(len(animal))\n",
        "\n",
        "# Ans >>\n",
        "animal = ['Human', 'cat', 'mat', 'cat', 'rat', 'Human', 'Lion']\n",
        "print(animal.count('Human'))\n",
        "print(animal.index('rat'))\n",
        "print(len(animal))\n",
        "\n"
      ],
      "metadata": {
        "colab": {
          "base_uri": "https://localhost:8080/"
        },
        "id": "wa7PICCtM_sI",
        "outputId": "7d483d78-47b5-42d8-ad39-2191b2cd67c6"
      },
      "execution_count": 30,
      "outputs": [
        {
          "output_type": "stream",
          "name": "stdout",
          "text": [
            "2\n",
            "4\n",
            "7\n"
          ]
        }
      ]
    },
    {
      "cell_type": "markdown",
      "source": [],
      "metadata": {
        "id": "pgbsD-XbSPET"
      }
    },
    {
      "cell_type": "code",
      "source": [
        "# Question 1.5. tuple1=(10,20,\"Apple\",3.4,'a',[\"master\",\"ji\"],(\"sita\",\"geeta\",22),[{\"roll_no\":1},{\"name\":\"Navneet\"}])\n",
        "# a)print(len(tuple1))\n",
        "# b)print(tuple1[-1][-1][\"name\"])\n",
        "# c)fetch the value of roll_no from this tuple.\n",
        "# d)print(tuple1[-3][1])\n",
        "# e)fetch the element \"22\" from this tuple\n",
        "\n",
        "# Ans>>\n",
        "tuple1=(10,20,\"Apple\",3.4,'a',[\"master\",\"ji\"],(\"sita\",\"geeta\",22),[{\"roll_no\":1},{\"name\":\"Navneet\"}])\n",
        "# a>>\n",
        "\n",
        "print(len(tuple1))\n",
        "\n",
        "# b>>\n",
        "\n",
        "print(tuple1[-1][-1][\"name\"])\n",
        "\n",
        "# c>>\n",
        "\n",
        "roll_no = tuple1[-1][0][\"roll_no\"]\n",
        "print(roll_no)\n",
        "\n",
        "# d>>\n",
        "\n",
        "print(tuple1[-3][1])\n",
        "\n",
        "# e>>\n",
        "\n",
        "element = tuple1[-2][2]\n",
        "print(element)\n",
        "\n",
        "\n",
        "\n",
        "\n",
        "\n",
        "\n",
        "\n"
      ],
      "metadata": {
        "colab": {
          "base_uri": "https://localhost:8080/"
        },
        "id": "QRksiwUUPOgV",
        "outputId": "63bbf03c-a418-4434-9964-7b5909276753"
      },
      "execution_count": 31,
      "outputs": [
        {
          "output_type": "stream",
          "name": "stdout",
          "text": [
            "8\n",
            "Navneet\n",
            "1\n",
            "ji\n",
            "22\n"
          ]
        }
      ]
    },
    {
      "cell_type": "code",
      "source": [
        "#Q 1.6. Write a program to display the appropriate message as per the color of signal(RED-Stop/Yellow-Stay/Green-Go) at the road crossing.\n",
        "# Ans>>\n",
        "def display_signal_message(color):\n",
        "    if color.lower() == 'red':\n",
        "        return \"Stop\"\n",
        "    elif color.lower() == 'yellow':\n",
        "        return \"Stay\"\n",
        "    elif color.lower() == 'green':\n",
        "        return \"Go\"\n",
        "    else:\n",
        "        return \"Invalid color! Please enter RED, YELLOW, or GREEN.\"\n",
        "\n",
        "# Example usage\n",
        "signal_color = input(\"Enter the color of the signal (RED, YELLOW, GREEN): \")\n",
        "message = display_signal_message(signal_color)\n",
        "print(message)\n"
      ],
      "metadata": {
        "colab": {
          "base_uri": "https://localhost:8080/"
        },
        "id": "Cr6olyClQM8X",
        "outputId": "4cb07b52-4d42-4aae-8f78-7de8f63f3e4c"
      },
      "execution_count": 32,
      "outputs": [
        {
          "output_type": "stream",
          "name": "stdout",
          "text": [
            "Enter the color of the signal (RED, YELLOW, GREEN): red\n",
            "Stop\n"
          ]
        }
      ]
    },
    {
      "cell_type": "code",
      "source": [
        "#Q1.7 Write a program to create a simple calculator performing only four basic operations(+,-,/,*) .\n",
        "# Ans>>\n",
        "def add(x, y):\n",
        "    return x + y\n",
        "\n",
        "def subtract(x, y):\n",
        "    return x - y\n",
        "\n",
        "def multiply(x, y):\n",
        "    return x * y\n",
        "\n",
        "def divide(x, y):\n",
        "    if y == 0:\n",
        "        return \"Error! Division by zero.\"\n",
        "    return x / y\n",
        "\n",
        "def main():\n",
        "    print(\"Select operation:\")\n",
        "    print(\"1. Add\")\n",
        "    print(\"2. Subtract\")\n",
        "    print(\"3. Multiply\")\n",
        "    print(\"4. Divide\")\n",
        "\n",
        "    choice = input(\"Enter choice (1/2/3/4): \")\n",
        "\n",
        "    if choice in ['1', '2', '3', '4']:\n",
        "        num1 = float(input(\"Enter first number: \"))\n",
        "        num2 = float(input(\"Enter second number: \"))\n",
        "\n",
        "        if choice == '1':\n",
        "            print(f\"{num1} + {num2} = {add(num1, num2)}\")\n",
        "        elif choice == '2':\n",
        "            print(f\"{num1} - {num2} = {subtract(num1, num2)}\")\n",
        "        elif choice == '3':\n",
        "            print(f\"{num1} * {num2} = {multiply(num1, num2)}\")\n",
        "        elif choice == '4':\n",
        "            print(f\"{num1} / {num2} = {divide(num1, num2)}\")\n",
        "    else:\n",
        "        print(\"Invalid input! Please select a valid operation.\")\n",
        "\n",
        "if __name__ == \"__main__\":\n",
        "    main()\n"
      ],
      "metadata": {
        "colab": {
          "base_uri": "https://localhost:8080/"
        },
        "id": "Esf6YpqwU4VI",
        "outputId": "f712c997-c854-454b-e3f7-18b57edab288"
      },
      "execution_count": 33,
      "outputs": [
        {
          "output_type": "stream",
          "name": "stdout",
          "text": [
            "Select operation:\n",
            "1. Add\n",
            "2. Subtract\n",
            "3. Multiply\n",
            "4. Divide\n",
            "Enter choice (1/2/3/4): 3\n",
            "Enter first number: 2\n",
            "Enter second number: 5\n",
            "2.0 * 5.0 = 10.0\n"
          ]
        }
      ]
    },
    {
      "cell_type": "code",
      "source": [
        "# Q 1.8 Write a program to find the larger of the three pre-specified numbers using ternary operators.\n",
        "# Ans>>\n",
        "a = 10\n",
        "b = 20\n",
        "c = 15\n",
        "largest = a if (a > b and a > c) else (b if b > c else c)\n",
        "\n",
        "print(f\"The largest number among {a}, {b}, and {c} is {largest}.\")\n"
      ],
      "metadata": {
        "colab": {
          "base_uri": "https://localhost:8080/"
        },
        "id": "baPp1fWzVtwr",
        "outputId": "b53b56da-e902-4ab9-908c-d3376ca10a3a"
      },
      "execution_count": 34,
      "outputs": [
        {
          "output_type": "stream",
          "name": "stdout",
          "text": [
            "The largest number among 10, 20, and 15 is 20.\n"
          ]
        }
      ]
    },
    {
      "cell_type": "code",
      "source": [
        "99# Q 1.9. Write a program to find the factors of a whole number using a while loop.\n",
        "# Ans>>\n",
        "def find_factors(number):\n",
        "    factors = []\n",
        "    i = 1\n",
        "    while i <= number:\n",
        "        if number % i == 0:\n",
        "            factors.append(i)\n",
        "        i += 1\n",
        "    return factors\n",
        "\n",
        "def main():\n",
        "    try:\n",
        "        num = int(input(\"Enter a whole number: \"))\n",
        "        if num < 0:\n",
        "            print(\"Please enter a non-negative whole number.\")\n",
        "        else:\n",
        "            factors = find_factors(num)\n",
        "            print(f\"The factors of {num} are: {factors}\")\n",
        "    except ValueError:\n",
        "        print(\"Invalid input! Please enter a valid integer.\")\n",
        "\n",
        "if __name__ == \"__main__\":\n",
        "    main()\n"
      ],
      "metadata": {
        "colab": {
          "base_uri": "https://localhost:8080/"
        },
        "id": "TYC6AYglWcIA",
        "outputId": "a70a3139-b524-4db8-a234-1a152fb02261"
      },
      "execution_count": 35,
      "outputs": [
        {
          "output_type": "stream",
          "name": "stdout",
          "text": [
            "Enter a whole number: 55\n",
            "The factors of 55 are: [1, 5, 11, 55]\n"
          ]
        }
      ]
    },
    {
      "cell_type": "code",
      "source": [
        "# Q 1.10. Write a program to find the sum of all the positive numbers entered by the user. As soon as the user.\n",
        "# enters a negative number, stop taking in any further input from the user and display the sum .\n",
        "# Ans>>\n",
        "def main():\n",
        "    total_sum = 0\n",
        "\n",
        "    while True:\n",
        "        try:\n",
        "            number = float(input(\"Enter a positive number (or a negative number to stop): \"))\n",
        "            if number < 0:\n",
        "                break\n",
        "            total_sum += number\n",
        "        except ValueError:\n",
        "            print(\"Invalid input! Please enter a numeric value.\")\n",
        "\n",
        "    print(f\"The sum of all positive numbers entered is: {total_sum}\")\n",
        "\n",
        "if __name__ == \"__main__\":\n",
        "    main()\n",
        "\n"
      ],
      "metadata": {
        "colab": {
          "base_uri": "https://localhost:8080/"
        },
        "id": "bWbx3MlDY-lr",
        "outputId": "bd524f3e-348d-4399-a9d4-8639a9c3a178"
      },
      "execution_count": 36,
      "outputs": [
        {
          "output_type": "stream",
          "name": "stdout",
          "text": [
            "Enter a positive number (or a negative number to stop): 5\n",
            "Enter a positive number (or a negative number to stop): -9\n",
            "The sum of all positive numbers entered is: 5.0\n"
          ]
        }
      ]
    },
    {
      "cell_type": "code",
      "source": [
        "# Q 1.11 Write a program to find prime numbers between 2 to 100 using nested for loops.\n",
        "def is_prime(number):\n",
        "    # A prime number is greater than 1 and has no divisors other than 1 and itself.\n",
        "    if number <= 1:\n",
        "        return False\n",
        "    for i in range(2, int(number**0.5) + 1):\n",
        "        if number % i == 0:\n",
        "            return False\n",
        "    return True\n",
        "\n",
        "def find_primes(start, end):\n",
        "    prime_numbers = []\n",
        "    for num in range(start, end + 1):\n",
        "        if is_prime(num):\n",
        "            prime_numbers.append(num)\n",
        "    return prime_numbers\n",
        "\n",
        "def main():\n",
        "    start = 2\n",
        "    end = 100\n",
        "    primes = find_primes(start, end)\n",
        "    print(f\"Prime numbers between {start} and {end} are: {primes}\")\n",
        "\n",
        "if __name__ == \"__main__\":\n",
        "    main()\n"
      ],
      "metadata": {
        "colab": {
          "base_uri": "https://localhost:8080/"
        },
        "id": "sQX45IzvZSoD",
        "outputId": "d91e5a7a-399e-4eaa-d699-39959fc47edf"
      },
      "execution_count": 37,
      "outputs": [
        {
          "output_type": "stream",
          "name": "stdout",
          "text": [
            "Prime numbers between 2 and 100 are: [2, 3, 5, 7, 11, 13, 17, 19, 23, 29, 31, 37, 41, 43, 47, 53, 59, 61, 67, 71, 73, 79, 83, 89, 97]\n"
          ]
        }
      ]
    },
    {
      "cell_type": "code",
      "source": [
        "#Q 1.12. Write the programs for the following:\n",
        "# Accept the marks of the student in five major subjects and display the same?\n",
        "# Calculate the sum of the marks of all subjects.Divide the total marks by number of subjects (i.e. 5), calculate\n",
        "# percentage = total marks/5 and display the percentage?\n",
        "# Find the grade of the student as per the following criteria . Hint: Use Match & case for this.:\n",
        "# criteria                                 Grade\n",
        "# percentage > 85                            A\n",
        "# percentage < 85 && percentage >= 75        B\n",
        "# percentage < 75 && percentage >= 50        C\n",
        "# percentage < 30 && percentage <= 50        D\n",
        "# percentage < 30\n",
        "\n",
        "# Ans>>\n",
        "# Accepting marks for five subjects\n",
        "subject1 = int(input(\"Enter marks for Subject 1: \"))\n",
        "subject2 = int(input(\"Enter marks for Subject 2: \"))\n",
        "subject3 = int(input(\"Enter marks for Subject 3: \"))\n",
        "subject4 = int(input(\"Enter marks for Subject 4: \"))\n",
        "subject5 = int(input(\"Enter marks for Subject 5: \"))\n",
        "\n",
        "# Displaying the marks\n",
        "print(f\"Marks: Subject 1 = {subject1}, Subject 2 = {subject2}, Subject 3 = {subject3}, Subject 4 = {subject4}, Subject 5 = {subject5}\")\n",
        "\n",
        "# Calculating total marks and percentage\n",
        "total_marks = subject1 + subject2 + subject3 + subject4 + subject5\n",
        "percentage = total_marks / 5\n",
        "\n",
        "# Displaying total marks and percentage\n",
        "print(f\"Total Marks: {total_marks}\")\n",
        "print(f\"Percentage: {percentage:.2f}%\")\n",
        "\n",
        "# Determining the grade using match-case\n",
        "def get_grade(percentage):\n",
        "    match percentage:\n",
        "        case p if p > 85:\n",
        "            return 'A'\n",
        "        case p if p >= 75 and p <= 85:\n",
        "            return 'B'\n",
        "        case p if p >= 50 and p < 75:\n",
        "            return 'C'\n",
        "        case p if p >= 30 and p < 50:\n",
        "            return 'D'\n",
        "        case _:\n",
        "            return 'F'\n",
        "\n",
        "# Getting the grade\n",
        "grade = get_grade(percentage)\n",
        "\n",
        "# Displaying the grade\n",
        "print(f\"Grade: {grade}\")\n",
        "\n"
      ],
      "metadata": {
        "id": "jKxCsHPpZ_XQ",
        "colab": {
          "base_uri": "https://localhost:8080/"
        },
        "outputId": "8f7e84c7-b03a-4d8b-adc7-f7ff0e3df803"
      },
      "execution_count": 38,
      "outputs": [
        {
          "output_type": "stream",
          "name": "stdout",
          "text": [
            "Enter marks for Subject 1: 99\n",
            "Enter marks for Subject 2: 96\n",
            "Enter marks for Subject 3: 89\n",
            "Enter marks for Subject 4: 97\n",
            "Enter marks for Subject 5: 92\n",
            "Marks: Subject 1 = 99, Subject 2 = 96, Subject 3 = 89, Subject 4 = 97, Subject 5 = 92\n",
            "Total Marks: 473\n",
            "Percentage: 94.60%\n",
            "Grade: A\n"
          ]
        }
      ]
    },
    {
      "cell_type": "code",
      "source": [
        "# Q 1.13. Write a program for VIBGYOR Spectrum based on their Wavelength using Wavelength Range:\n",
        "# COLOR        WAVELENGTH(nm)\n",
        "# violet       400.0 - 440.0\n",
        "# indigo       440.0 - 460.0\n",
        "# blue         460.0 - 500.0\n",
        "# green        500.0 - 570.0\n",
        "# yellow       570.0 - 590.0\n",
        "# orange       590.0 - 620.0\n",
        "# red          620.0 - 720.0\n",
        "\n",
        "# Ans>>\n",
        "# Function to determine color based on wavelength\n",
        "def determine_color(wavelength):\n",
        "    match wavelength:\n",
        "        case w if 400.0 <= w < 440.0:\n",
        "            return \"Violet\"\n",
        "        case w if 440.0 <= w < 460.0:\n",
        "            return \"Indigo\"\n",
        "        case w if 460.0 <= w < 500.0:\n",
        "            return \"Blue\"\n",
        "        case w if 500.0 <= w < 570.0:\n",
        "            return \"Green\"\n",
        "        case w if 570.0 <= w < 590.0:\n",
        "            return \"Yellow\"\n",
        "        case w if 590.0 <= w < 620.0:\n",
        "            return \"Orange\"\n",
        "        case w if 620.0 <= w <= 720.0:\n",
        "            return \"Red\"\n",
        "        case _:\n",
        "            return \"Wavelength not in visible spectrum range\"\n",
        "\n",
        "# Input: Wavelength in nanometers\n",
        "wavelength = float(input(\"Enter the wavelength in nanometers (nm): \"))\n",
        "\n",
        "# Determine and display the color\n",
        "color = determine_color(wavelength)\n",
        "print(f\"The color corresponding to wavelength {wavelength} nm is {color}.\")\n"
      ],
      "metadata": {
        "colab": {
          "base_uri": "https://localhost:8080/"
        },
        "id": "iwAgbTBYLrXq",
        "outputId": "0e422f92-5911-4f10-d79a-9892dd305d8a"
      },
      "execution_count": 39,
      "outputs": [
        {
          "output_type": "stream",
          "name": "stdout",
          "text": [
            "Enter the wavelength in nanometers (nm): 500\n",
            "The color corresponding to wavelength 500.0 nm is Green.\n"
          ]
        }
      ]
    },
    {
      "cell_type": "code",
      "source": [
        "# Q. 1.14.Consider the gravitational interactions between the Earth, Moon, and Sun in our solar system.\n",
        "# '''Given:\n",
        "# mass_earth = 5A972e24 # Mass of Earth in kilograms\n",
        "# mass_moon = 7A347 7309e22 # Mass of Moon in kilograms\n",
        "# mass_sun = 1A989e30 # Mass of Sun in kilograms\n",
        "# distance_earth_sun = 1A49 e11 # Average distance between Earth and Sun in meters\n",
        "# distance_moon_earth = 3A844e8 # Average distance between Moon and Earth in meters\n",
        "# Tasks:\n",
        "# * Calculate the gravitational force between the Earth and the Sun.\n",
        "# * Calculate the gravitational force between the Moon and the Earth.\n",
        "# * Compare the calculated forces to determine which gravitational force is stronger.\n",
        "# * Explain which celestial body (Earth or Moon) is more attracted to the other based on the comparison.'''\n",
        "\n",
        "# Ans>> given data:\n",
        "# Mass of Earth (mₑ):5.972*10^24 kg\n",
        "# Mass of Moon (mₘ): 7.347*10^22 kg\n",
        "# Mass of Sun (mₛ):  1.989*10^30 kg\n",
        "# Distance between Earth and Sun (dₑₛ): 1.496*10^11 m\n",
        "# Distance between Moon and Earth (dₘₑ):3.844*10^8 m\n",
        "\n",
        "# Gravitational Force Formula:\n",
        "# F = G*m1*m2/r^2\n",
        "\n",
        "# 1.Gravitational Force between Earth and Sun:3.54*10^22 N\n",
        "# 2.Gravitational Force between Moon and Earth:1.98*10^20 N\n",
        "# 3.Comparison of Forces: The gravitational force between the Earth and the Sun is significantly stronger than the gravitational force between the Moon and the Earth\n",
        "# 4.The Earth is much more strongly attracted to the Sun than the Moon is to the Earth due to the massive difference in the mass of the Sun compared to the Earth and Moon, despite the larger distance.\n",
        "\n",
        "\n"
      ],
      "metadata": {
        "id": "lSfWjTBMNdtb"
      },
      "execution_count": 40,
      "outputs": []
    },
    {
      "cell_type": "code",
      "source": [
        "# Q.2. Design and implement a Python program for managing student information using object-oriented\n",
        "# principles. Create a class called `Student` with encapsulated attributes for name, age, and roll number.\n",
        "# Implement getter and setter methods for these attributes. Additionally, provide methods to display student\n",
        "# information and update student details.\n",
        "# Task:\n",
        "# Define the `Student` class with encapsulated attributes.\n",
        "# Implement getter and setter methods for the attributes.\n",
        "# Write methods to display student inform7tion and upd7te det7ils.\n",
        "# Create instances of the `Student` class and test the implemented functionality.\n",
        "\n",
        "\n",
        "# Ans>>\n",
        "class Student:\n",
        "    def __init__(self, name, age, roll_number):\n",
        "        self.__name = name\n",
        "        self.__age = age\n",
        "        self.__roll_number = roll_number\n",
        "\n",
        "\n",
        "    def get_name(self):\n",
        "        return self.__name\n",
        "\n",
        "    def set_name(self, name):\n",
        "        self.__name = name\n",
        "\n",
        "\n",
        "    def get_age(self):\n",
        "        return self.__age\n",
        "\n",
        "    def set_age(self, age):\n",
        "        if age > 0:\n",
        "            self.__age = age\n",
        "        else:\n",
        "            print(\"Please enter a valid age.\")\n",
        "\n",
        "\n",
        "    def get_roll_number(self):\n",
        "        return self.__roll_number\n",
        "\n",
        "\n",
        "    def set_roll_number(self, roll_number):\n",
        "        self.__roll_number = roll_number\n",
        "\n",
        "\n",
        "    def display_info(self):\n",
        "        print(f\"Name: {self.__name}\")\n",
        "        print(f\"Age: {self.__age}\")\n",
        "        print(f\"Roll Number: {self.__roll_number}\")\n",
        "\n",
        "    def update_details(self, name=None, age=None, roll_number=None):\n",
        "        if name is not None:\n",
        "            self.set_name(name)\n",
        "        if age is not None:\n",
        "            self.set_age(age)\n",
        "        if roll_number is not None:\n",
        "            self.set_roll_number(roll_number)\n",
        "        print(\"Student details updated successfully.\")\n",
        "\n",
        "# Creating instances of the Student class and testing functionality\n",
        "student1 = Student(\"Alice\", 20, \"R001\")\n",
        "student2 = Student(\"Bob\", 22, \"R002\")\n",
        "\n",
        "# Displaying initial student information\n",
        "print(\"Initial Student Information:\")\n",
        "student1.display_info()\n",
        "print()\n",
        "student2.display_info()\n",
        "print()\n",
        "\n",
        "# Updating student details\n",
        "student1.update_details(name=\"Alice Smith\", age=21)\n",
        "student2.update_details(roll_number=\"R002X\")\n",
        "\n",
        "# Displaying updated student information\n",
        "print(\"\\nUpdated Student Information:\")\n",
        "student1.display_info()\n",
        "print()\n",
        "student2.display_info()\n",
        "\n"
      ],
      "metadata": {
        "colab": {
          "base_uri": "https://localhost:8080/"
        },
        "id": "ezLXXYn_NynL",
        "outputId": "02011742-8711-4c9d-c13a-f650c23fe630"
      },
      "execution_count": 41,
      "outputs": [
        {
          "output_type": "stream",
          "name": "stdout",
          "text": [
            "Initial Student Information:\n",
            "Name: Alice\n",
            "Age: 20\n",
            "Roll Number: R001\n",
            "\n",
            "Name: Bob\n",
            "Age: 22\n",
            "Roll Number: R002\n",
            "\n",
            "Student details updated successfully.\n",
            "Student details updated successfully.\n",
            "\n",
            "Updated Student Information:\n",
            "Name: Alice Smith\n",
            "Age: 21\n",
            "Roll Number: R001\n",
            "\n",
            "Name: Bob\n",
            "Age: 22\n",
            "Roll Number: R002X\n"
          ]
        }
      ]
    },
    {
      "cell_type": "code",
      "source": [
        "# Q3.3.Develop a Python program for managing library resources efficiently. Design a class named `LibraryBook`\n",
        "# with attributes like book name, author, and availability status. Implement methods for borrowing and\n",
        "# returning books while ensuring proper encapsulation of attributes.\n",
        "# task:\n",
        "\n",
        "# 3 1. Create the `LibraryBook` class with encapsulated attributes.\n",
        "# 2. Implement methods for borrowing and returning books.\n",
        "# 3. Ensure proper encapsulation to protect book details.\n",
        "# 4. Test the borrowing and returning functionality with sample data.\n",
        "\n",
        "# Ans>>\n",
        "class LibraryBook:\n",
        "    def __init__(self, book_name, author):\n",
        "        self.__book_name = book_name\n",
        "        self.__author = author\n",
        "        self.__is_available = True\n",
        "\n",
        "    # Getter for book name\n",
        "    def get_book_name(self):\n",
        "        return self.__book_name\n",
        "\n",
        "    # Getter for author\n",
        "    def get_author(self):\n",
        "        return self.__author\n",
        "\n",
        "    # Getter for availability status\n",
        "    def is_available(self):\n",
        "        return self.__is_available\n",
        "\n",
        "    # Method to borrow a book\n",
        "    def borrow_book(self):\n",
        "        if self.__is_available:\n",
        "            self.__is_available = False\n",
        "            print(f\"You have borrowed '{self.__book_name}' by {self.__author}.\")\n",
        "        else:\n",
        "            print(f\"Sorry, '{self.__book_name}' is currently not available.\")\n",
        "\n",
        "    # Method to return a book\n",
        "    def return_book(self):\n",
        "        if not self.__is_available:\n",
        "            self.__is_available = True\n",
        "            print(f\"'{self.__book_name}' has been returned. Thank you!\")\n",
        "        else:\n",
        "            print(f\"'{self.__book_name}' is already available in the library.\")\n",
        "\n",
        "# Testing the functionality with sample data\n",
        "book1 = LibraryBook(\"1984\", \"George Orwell\")\n",
        "book2 = LibraryBook(\"To Kill a Mockingbird\", \"Harper Lee\")\n",
        "\n",
        "# Display initial availability status\n",
        "print(f\"Is '{book1.get_book_name()}' available? {'Yes' if book1.is_available() else 'No'}\")\n",
        "print(f\"Is '{book2.get_book_name()}' available? {'Yes' if book2.is_available() else 'No'}\")\n",
        "print()\n",
        "\n",
        "# Borrowing and returning books\n",
        "book1.borrow_book()\n",
        "book1.borrow_book()\n",
        "book1.return_book()\n",
        "book1.return_book()\n",
        "print()\n",
        "\n",
        "# Borrowing book2\n",
        "book2.borrow_book()\n"
      ],
      "metadata": {
        "colab": {
          "base_uri": "https://localhost:8080/"
        },
        "id": "8d8O6sdZTu1V",
        "outputId": "0e752bdd-2824-4b66-af68-037f322c2551"
      },
      "execution_count": 42,
      "outputs": [
        {
          "output_type": "stream",
          "name": "stdout",
          "text": [
            "Is '1984' available? Yes\n",
            "Is 'To Kill a Mockingbird' available? Yes\n",
            "\n",
            "You have borrowed '1984' by George Orwell.\n",
            "Sorry, '1984' is currently not available.\n",
            "'1984' has been returned. Thank you!\n",
            "'1984' is already available in the library.\n",
            "\n",
            "You have borrowed 'To Kill a Mockingbird' by Harper Lee.\n"
          ]
        }
      ]
    },
    {
      "cell_type": "code",
      "source": [
        "# Q 4.4.Create a simple banking system using object-oriented concepts in Python. Design classes representing\n",
        "# different types of bank accounts such as savings and checking. Implement methods for deposit, withdraw,\n",
        "# and balance inquiry. Utilize inheritance to manage different account types efficiently.\n",
        "# Task:\n",
        "# 1. Define base clas(es) for bank accounts with common attributes and methods.\n",
        "# 2. Implement subclasses for specific account types (e.g., SavingsAccount, CheckingAccount).\n",
        "# 3. Provide methods for deposit, withdraw, 7nd balance inquiry in each subclass.\n",
        "# 4. Test the banking system by creating instances of different account types and performing transactions.\n",
        "\n",
        "# Ans>>\n",
        "# Base class for bank accounts\n",
        "class BankAccount:\n",
        "    def __init__(self, account_number, balance=0):\n",
        "        self.account_number = account_number\n",
        "        self.balance = balance\n",
        "\n",
        "    def deposit(self, amount):\n",
        "        if amount > 0:\n",
        "            self.balance += amount\n",
        "            print(f\"Deposited {amount}. New balance is {self.balance}.\")\n",
        "        else:\n",
        "            print(\"Deposit amount must be positive.\")\n",
        "\n",
        "    def withdraw(self, amount):\n",
        "        if amount > 0 and amount <= self.balance:\n",
        "            self.balance -= amount\n",
        "            print(f\"Withdrew {amount}. New balance is {self.balance}.\")\n",
        "        else:\n",
        "            print(\"Invalid withdraw amount or insufficient funds.\")\n",
        "\n",
        "    def inquire_balance(self):\n",
        "        print(f\"The balance for account {self.account_number} is {self.balance}.\")\n",
        "        return self.balance\n",
        "\n",
        "# Subclass for Savings Account\n",
        "class SavingsAccount(BankAccount):\n",
        "    def __init__(self, account_number, balance=0, interest_rate=0.01):\n",
        "        super().__init__(account_number, balance)\n",
        "        self.interest_rate = interest_rate\n",
        "\n",
        "    def add_interest(self):\n",
        "        interest = self.balance * self.interest_rate\n",
        "        self.balance += interest\n",
        "        print(f\"Interest of {interest} added. New balance is {self.balance}.\")\n",
        "\n",
        "# Subclass for Checking Account\n",
        "class CheckingAccount(BankAccount):\n",
        "    def __init__(self, account_number, balance=0):\n",
        "        super().__init__(account_number, balance)\n",
        "        self.overdraft_limit = -500  # Overdraft limit set to -500\n",
        "\n",
        "    def withdraw(self, amount):\n",
        "        if amount > 0 and (self.balance - amount) >= self.overdraft_limit:\n",
        "            self.balance -= amount\n",
        "            print(f\"Withdrew {amount}. New balance is {self.balance}.\")\n",
        "        else:\n",
        "            print(\"Overdraft limit reached or invalid amount.\")\n",
        "\n",
        "# Testing the system\n",
        "# Create a savings account\n",
        "savings = SavingsAccount(\"SA123\", balance=1000, interest_rate=0.03)\n",
        "savings.deposit(500)\n",
        "savings.add_interest()\n",
        "savings.withdraw(200)\n",
        "savings.inquire_balance()\n",
        "\n",
        "# Create a checking account\n",
        "checking = CheckingAccount(\"CA456\", balance=500)\n",
        "checking.deposit(100)\n",
        "checking.withdraw(700)  # Should allow as it's within overdraft limit\n",
        "checking.withdraw(100)  # Should fail as it exceeds overdraft limit\n",
        "checking.inquire_balance()\n"
      ],
      "metadata": {
        "id": "E01l9snbWRHD",
        "colab": {
          "base_uri": "https://localhost:8080/"
        },
        "outputId": "61e6e595-d8ec-4bda-a3cf-8c0791824994"
      },
      "execution_count": 43,
      "outputs": [
        {
          "output_type": "stream",
          "name": "stdout",
          "text": [
            "Deposited 500. New balance is 1500.\n",
            "Interest of 45.0 added. New balance is 1545.0.\n",
            "Withdrew 200. New balance is 1345.0.\n",
            "The balance for account SA123 is 1345.0.\n",
            "Deposited 100. New balance is 600.\n",
            "Withdrew 700. New balance is -100.\n",
            "Withdrew 100. New balance is -200.\n",
            "The balance for account CA456 is -200.\n"
          ]
        },
        {
          "output_type": "execute_result",
          "data": {
            "text/plain": [
              "-200"
            ]
          },
          "metadata": {},
          "execution_count": 43
        }
      ]
    },
    {
      "cell_type": "code",
      "source": [
        "# Q.5 5.Write a Python program that models different animals and their sounds. Design a base class called\n",
        "# 'Animal` with a method `make_sound()`. Create subclasses like `Dog` and `Cat` that override the\n",
        "# `make_sound()` method to produce appropriate sounds.\n",
        "# Tasks:\n",
        "# 1. Define the `Animal` class with a method `make_sound()`.\n",
        "# 2. Create subclasses `Dog` and `Cat` that override the `make_sound()` method.\n",
        "# 3. Implement the sound generation logic for each subclass.\n",
        "# 4. Test the program by creating instances of `Dog` and `Cat` and calling the `make_sound()` method.\n",
        "\n",
        "# Ans>>\n",
        "# Base class for animals\n",
        "class Animal:\n",
        "    def make_sound(self):\n",
        "        pass  # This method will be overridden by subclasses\n",
        "\n",
        "# Subclass for Dog\n",
        "class Dog(Animal):\n",
        "    def make_sound(self):\n",
        "        return \"Woof! Woof!\"\n",
        "\n",
        "# Subclass for Cat\n",
        "class Cat(Animal):\n",
        "    def make_sound(self):\n",
        "        return \"Meow!\"\n",
        "\n",
        "dog = Dog()\n",
        "print(f\"The dog says: {dog.make_sound()}\")\n",
        "\n",
        "# Create an instance of Cat and call make_sound\n",
        "cat = Cat()\n",
        "print(f\"The cat says: {cat.make_sound()}\")\n"
      ],
      "metadata": {
        "colab": {
          "base_uri": "https://localhost:8080/"
        },
        "id": "xNaBz_5IMyJK",
        "outputId": "6764af7a-3b9e-4d63-8e89-2bd2a00bc2c4"
      },
      "execution_count": 44,
      "outputs": [
        {
          "output_type": "stream",
          "name": "stdout",
          "text": [
            "The dog says: Woof! Woof!\n",
            "The cat says: Meow!\n"
          ]
        }
      ]
    },
    {
      "cell_type": "code",
      "source": [
        "# Q.6.Write a code for Restaurant Management System Using OOPS:\n",
        "# Create a Menultem class that has attributes such as name, description, price, and category.\n",
        "# Implement methods to add a new menu item, update menu item information, and remove a menu item from the menu.\n",
        "# Use encapsulation to hide the menu item's unique identification number.\n",
        "# Inherit from the Menultem class to creat, a Fooditem class and a BeverageItem class, each with their own specific attributes and methods.\n",
        "\n",
        "# Ans>>\n",
        "\n",
        "# Base class for menu items\n",
        "class MenuItem:\n",
        "    _next_id = 1  # Class variable to keep track of the next ID\n",
        "\n",
        "    def __init__(self, name, description, price, category):\n",
        "        self.__id = MenuItem._next_id\n",
        "        MenuItem._next_id += 1\n",
        "        self.name = name\n",
        "        self.description = description\n",
        "        self.price = price\n",
        "        self.category = category\n",
        "\n",
        "    def get_id(self):\n",
        "        return self.__id\n",
        "\n",
        "    def add_item(self):\n",
        "        print(f\"Item '{self.name}' added with ID {self.__id}.\")\n",
        "\n",
        "    def update_item(self, name=None, description=None, price=None, category=None):\n",
        "        if name:\n",
        "            self.name = name\n",
        "        if description:\n",
        "            self.description = description\n",
        "        if price:\n",
        "            self.price = price\n",
        "        if category:\n",
        "            self.category = category\n",
        "        print(f\"Item '{self.__id}' updated.\")\n",
        "\n",
        "    def remove_item(self):\n",
        "        print(f\"Item '{self.name}' with ID {self.__id} removed.\")\n",
        "\n",
        "# Subclass for food items\n",
        "class FoodItem(MenuItem):\n",
        "    def __init__(self, name, description, price, category, is_vegan=False):\n",
        "        super().__init__(name, description, price, category)\n",
        "        self.is_vegan = is_vegan\n",
        "\n",
        "    def update_item(self, is_vegan=None, **kwargs):\n",
        "        super().update_item(**kwargs)\n",
        "        if is_vegan is not None:\n",
        "            self.is_vegan = is_vegan\n",
        "\n",
        "# Subclass for beverage items\n",
        "class BeverageItem(MenuItem):\n",
        "    def __init__(self, name, description, price, category, size=\"Medium\"):\n",
        "        super().__init__(name, description, price, category)\n",
        "        self.size = size\n",
        "\n",
        "    def update_item(self, size=None, **kwargs):\n",
        "        super().update_item(**kwargs)\n",
        "        if size:\n",
        "            self.size = size\n",
        "\n",
        "# Testing the system\n",
        "# Create a food item\n",
        "pizza = FoodItem(name=\"Pizza\", description=\"Cheesy pizza with toppings\", price=9.99, category=\"Main Course\", is_vegan=False)\n",
        "pizza.add_item()\n",
        "pizza.update_item(price=10.99, is_vegan=True)\n",
        "print(f\"ID: {pizza.get_id()}, Name: {pizza.name}, Price: {pizza.price}, Vegan: {pizza.is_vegan}\")\n",
        "\n",
        "# Create a beverage item\n",
        "coffee = BeverageItem(name=\"Coffee\", description=\"Hot coffee\", price=2.99, category=\"Beverages\", size=\"Large\")\n",
        "coffee.add_item()\n",
        "coffee.update_item(size=\"Medium\", price=3.49)\n",
        "print(f\"ID: {coffee.get_id()}, Name: {coffee.name}, Price: {coffee.price}, Size: {coffee.size}\")\n",
        "\n",
        "# Remove items\n",
        "pizza.remove_item()\n",
        "coffee.remove_item()\n",
        "\n",
        "\n",
        "\n"
      ],
      "metadata": {
        "colab": {
          "base_uri": "https://localhost:8080/"
        },
        "id": "xcHm8yVJNt_b",
        "outputId": "261f4dad-4b54-449b-b3c8-12b97779fba7"
      },
      "execution_count": 45,
      "outputs": [
        {
          "output_type": "stream",
          "name": "stdout",
          "text": [
            "Item 'Pizza' added with ID 1.\n",
            "Item '1' updated.\n",
            "ID: 1, Name: Pizza, Price: 10.99, Vegan: True\n",
            "Item 'Coffee' added with ID 2.\n",
            "Item '2' updated.\n",
            "ID: 2, Name: Coffee, Price: 3.49, Size: Medium\n",
            "Item 'Pizza' with ID 1 removed.\n",
            "Item 'Coffee' with ID 2 removed.\n"
          ]
        }
      ]
    },
    {
      "cell_type": "code",
      "source": [
        "# Q.7.Write a code f0r Hotel Management System using OOPS .\n",
        "# Create a Room class that has attributes such as room number, room type, rate, and availability (private).\n",
        "# Implement methods to book a room, check in a guest, and check out a guest.\n",
        "# Use encapsulation to hide the room's unique identification number.\n",
        "# Inherit from the Room class to creat, a SuiteRoom class and a StandardRoom class, each with their own specific attributes and methods.\n",
        "\n",
        "# Ans>>\n",
        "# Base class for rooms\n",
        "class Room:\n",
        "    _next_id = 1  # Class variable for unique ID\n",
        "\n",
        "    def __init__(self, room_number, room_type, rate):\n",
        "        self.__id = Room._next_id\n",
        "        Room._next_id += 1\n",
        "        self.room_number = room_number\n",
        "        self.room_type = room_type\n",
        "        self.rate = rate\n",
        "        self.__availability = True  # Private attribute\n",
        "\n",
        "    def get_id(self):\n",
        "        return self.__id\n",
        "\n",
        "    def is_available(self):\n",
        "        return self.__availability\n",
        "\n",
        "    def book_room(self):\n",
        "        if self.__availability:\n",
        "            self.__availability = False\n",
        "            print(f\"Room {self.room_number} booked.\")\n",
        "        else:\n",
        "            print(f\"Room {self.room_number} is already booked.\")\n",
        "\n",
        "    def check_in(self):\n",
        "        if not self.__availability:\n",
        "            print(f\"Guest checked into room {self.room_number}.\")\n",
        "        else:\n",
        "            print(f\"Room {self.room_number} is not booked yet.\")\n",
        "\n",
        "    def check_out(self):\n",
        "        if not self.__availability:\n",
        "            self.__availability = True\n",
        "            print(f\"Room {self.room_number} is now available.\")\n",
        "        else:\n",
        "            print(f\"Room {self.room_number} was not occupied.\")\n",
        "\n",
        "# Subclass for Suite Rooms\n",
        "class SuiteRoom(Room):\n",
        "    def __init__(self, room_number, rate, luxury_level):\n",
        "        super().__init__(room_number, \"Suite\", rate)\n",
        "        self.luxury_level = luxury_level\n",
        "\n",
        "    def book_room(self):\n",
        "        super().book_room()\n",
        "        if not self.is_available():\n",
        "            print(f\"Enjoy your stay in the luxury level {self.luxury_level} suite.\")\n",
        "\n",
        "# Subclass for Standard Rooms\n",
        "class StandardRoom(Room):\n",
        "    def __init__(self, room_number, rate):\n",
        "        super().__init__(room_number, \"Standard\", rate)\n",
        "\n",
        "    def book_room(self):\n",
        "        super().book_room()\n",
        "        if not self.is_available():\n",
        "            print(f\"Enjoy your stay in our comfortable standard room.\")\n",
        "\n",
        "# Testing the system\n",
        "# Create a suite room\n",
        "suite = SuiteRoom(room_number=101, rate=200, luxury_level=\"Gold\")\n",
        "print(f\"Room ID: {suite.get_id()}, Type: {suite.room_type}, Rate: ${suite.rate}\")\n",
        "suite.book_room()\n",
        "suite.check_in()\n",
        "suite.check_out()\n",
        "\n",
        "# Create a standard room\n",
        "standard = StandardRoom(room_number=102, rate=100)\n",
        "print(f\"\\nRoom ID: {standard.get_id()}, Type: {standard.room_type}, Rate: ${standard.rate}\")\n",
        "standard.book_room()\n",
        "standard.check_in()\n",
        "standard.check_out()\n"
      ],
      "metadata": {
        "colab": {
          "base_uri": "https://localhost:8080/"
        },
        "id": "R8LroDBKRhQC",
        "outputId": "a9680e21-1df0-492b-9503-0a53d8a68119"
      },
      "execution_count": 46,
      "outputs": [
        {
          "output_type": "stream",
          "name": "stdout",
          "text": [
            "Room ID: 1, Type: Suite, Rate: $200\n",
            "Room 101 booked.\n",
            "Enjoy your stay in the luxury level Gold suite.\n",
            "Guest checked into room 101.\n",
            "Room 101 is now available.\n",
            "\n",
            "Room ID: 2, Type: Standard, Rate: $100\n",
            "Room 102 booked.\n",
            "Enjoy your stay in our comfortable standard room.\n",
            "Guest checked into room 102.\n",
            "Room 102 is now available.\n"
          ]
        }
      ]
    },
    {
      "cell_type": "code",
      "source": [
        "# Q.8.Write a code f0r Fitness Club Management System using OOPS:\n",
        "# Create a Member class that has attributes such as name , age , membership type , and membership status(private).\n",
        "# Implement methods to register a new member, renew a membership, and cancel a membership.\n",
        "# Use encapsulation to hide the memberes unique identification number.\n",
        "# Inherit from the Member class to create a FamilyMember class and an IndividualMember classe each with their own specific attributes and methods.\n",
        "\n",
        "# Ans>>\n",
        "# Base class for members\n",
        "class Member:\n",
        "    _next_id = 1  # Class variable to generate unique IDs\n",
        "\n",
        "    def __init__(self, name, age, membership_type):\n",
        "        self.__id = Member._next_id\n",
        "        Member._next_id += 1\n",
        "        self.name = name\n",
        "        self.age = age\n",
        "        self.membership_type = membership_type\n",
        "        self.__membership_status = 'Active'  # Private attribute\n",
        "\n",
        "    def get_id(self):\n",
        "        return self.__id\n",
        "\n",
        "    def get_membership_status(self):\n",
        "        return self.__membership_status\n",
        "\n",
        "    def register_member(self):\n",
        "        print(f\"Member {self.name} with ID {self.__id} registered successfully.\")\n",
        "\n",
        "    def renew_membership(self):\n",
        "        if self.__membership_status == 'Active':\n",
        "            print(f\"Membership for {self.name} is already active.\")\n",
        "        else:\n",
        "            self.__membership_status = 'Active'\n",
        "            print(f\"Membership for {self.name} has been renewed.\")\n",
        "\n",
        "    def cancel_membership(self):\n",
        "        if self.__membership_status == 'Inactive':\n",
        "            print(f\"Membership for {self.name} is already canceled.\")\n",
        "        else:\n",
        "            self.__membership_status = 'Inactive'\n",
        "            print(f\"Membership for {self.name} has been canceled.\")\n",
        "\n",
        "# Subclass for family members\n",
        "class FamilyMember(Member):\n",
        "    def __init__(self, name, age, membership_type, family_size):\n",
        "        super().__init__(name, age, membership_type)\n",
        "        self.family_size = family_size\n",
        "\n",
        "    def register_member(self):\n",
        "        super().register_member()\n",
        "        print(f\"Family size for {self.name}'s membership: {self.family_size}\")\n",
        "\n",
        "# Subclass for individual members\n",
        "class IndividualMember(Member):\n",
        "    def __init__(self, name, age, membership_type):\n",
        "        super().__init__(name, age, membership_type)\n",
        "\n",
        "    def register_member(self):\n",
        "        super().register_member()\n",
        "        print(f\"Individual member {self.name} registered.\")\n",
        "\n",
        "# Testing the system\n",
        "# Create a family member\n",
        "family_member = FamilyMember(name=\"John Doe\", age=40, membership_type=\"Family\", family_size=4)\n",
        "family_member.register_member()\n",
        "print(f\"Membership Status: {family_member.get_membership_status()}\")\n",
        "family_member.renew_membership()\n",
        "family_member.cancel_membership()\n",
        "\n",
        "# Create an individual member\n",
        "individual_member = IndividualMember(name=\"Jane Smith\", age=30, membership_type=\"Individual\")\n",
        "individual_member.register_member()\n",
        "print(f\"\\nMembership Status: {individual_member.get_membership_status()}\")\n",
        "individual_member.cancel_membership()\n",
        "individual_member.renew_membership()\n"
      ],
      "metadata": {
        "colab": {
          "base_uri": "https://localhost:8080/"
        },
        "id": "eab2D5BbTPbu",
        "outputId": "891aac09-46f9-4b91-ca57-f44757e644e8"
      },
      "execution_count": 47,
      "outputs": [
        {
          "output_type": "stream",
          "name": "stdout",
          "text": [
            "Member John Doe with ID 1 registered successfully.\n",
            "Family size for John Doe's membership: 4\n",
            "Membership Status: Active\n",
            "Membership for John Doe is already active.\n",
            "Membership for John Doe has been canceled.\n",
            "Member Jane Smith with ID 2 registered successfully.\n",
            "Individual member Jane Smith registered.\n",
            "\n",
            "Membership Status: Active\n",
            "Membership for Jane Smith has been canceled.\n",
            "Membership for Jane Smith has been renewed.\n"
          ]
        }
      ]
    },
    {
      "cell_type": "code",
      "source": [
        "# Q.9.Write a code for Event Management System using OOPS:\n",
        "# Create an Event class that has attributes such as name, date, time, location, and list of attendees (private).\n",
        "# Implement methods to create a new event, add or remove attendeese and get the total number of attendees.\n",
        "# Use encapsulation to hide the eventes unique identification number.\n",
        "# Inherit from the Event class to create a PrivateEvent class and a PublicEvent classe each with their own specific attributes and methods.\n",
        "\n",
        "# Ans>>\n",
        "# Base class for events\n",
        "class Event:\n",
        "    _next_id = 1  # Class variable for unique ID generation\n",
        "\n",
        "    def __init__(self, name, date, time, location):\n",
        "        self.__id = Event._next_id\n",
        "        Event._next_id += 1\n",
        "        self.name = name\n",
        "        self.date = date\n",
        "        self.time = time\n",
        "        self.location = location\n",
        "        self.__attendees = []  # Private list of attendees\n",
        "\n",
        "    def get_id(self):\n",
        "        return self.__id\n",
        "\n",
        "    def get_attendees(self):\n",
        "        return self.__attendees\n",
        "\n",
        "    def add_attendee(self, attendee):\n",
        "        if attendee not in self.__attendees:\n",
        "            self.__attendees.append(attendee)\n",
        "            print(f\"Attendee '{attendee}' added to event '{self.name}'.\")\n",
        "        else:\n",
        "            print(f\"Attendee '{attendee}' is already registered for event '{self.name}'.\")\n",
        "\n",
        "    def remove_attendee(self, attendee):\n",
        "        if attendee in self.__attendees:\n",
        "            self.__attendees.remove(attendee)\n",
        "            print(f\"Attendee '{attendee}' removed from event '{self.name}'.\")\n",
        "        else:\n",
        "            print(f\"Attendee '{attendee}' not found in event '{self.name}'.\")\n",
        "\n",
        "    def get_total_attendees(self):\n",
        "        return len(self.__attendees)\n",
        "\n",
        "# Subclass for private events\n",
        "class PrivateEvent(Event):\n",
        "    def __init__(self, name, date, time, location, host):\n",
        "        super().__init__(name, date, time, location)\n",
        "        self.host = host\n",
        "\n",
        "    def add_attendee(self, attendee):\n",
        "        if len(self.get_attendees()) < 20:  # Example limit for private events\n",
        "            super().add_attendee(attendee)\n",
        "        else:\n",
        "            print(f\"Cannot add '{attendee}'. Private event '{self.name}' is at capacity.\")\n",
        "\n",
        "# Subclass for public events\n",
        "class PublicEvent(Event):\n",
        "    def __init__(self, name, date, time, location, max_capacity):\n",
        "        super().__init__(name, date, time, location)\n",
        "        self.max_capacity = max_capacity\n",
        "\n",
        "    def add_attendee(self, attendee):\n",
        "        if len(self.get_attendees()) < self.max_capacity:\n",
        "            super().add_attendee(attendee)\n",
        "        else:\n",
        "            print(f\"Cannot add '{attendee}'. Public event '{self.name}' is at full capacity.\")\n",
        "\n",
        "# Testing the system\n",
        "# Create a private event\n",
        "private_event = PrivateEvent(name=\"Birthday Party\", date=\"2023-08-01\", time=\"18:00\", location=\"John's House\", host=\"John Doe\")\n",
        "private_event.add_attendee(\"Alice\")\n",
        "private_event.add_attendee(\"Bob\")\n",
        "print(f\"Total attendees: {private_event.get_total_attendees()}\")\n",
        "\n",
        "# Create a public event\n",
        "public_event = PublicEvent(name=\"Music Concert\", date=\"2023-09-15\", time=\"20:00\", location=\"City Arena\", max_capacity=100)\n",
        "public_event.add_attendee(\"Charlie\")\n",
        "public_event.add_attendee(\"Dave\")\n",
        "public_event.add_attendee(\"Eve\")\n",
        "public_event.remove_attendee(\"Charlie\")\n",
        "print(f\"\\nTotal attendees: {public_event.get_total_attendees()}\")\n"
      ],
      "metadata": {
        "colab": {
          "base_uri": "https://localhost:8080/"
        },
        "id": "Xf-xs0Z1VXe0",
        "outputId": "9aa8ce07-132c-439a-d2f1-0a073f334055"
      },
      "execution_count": 48,
      "outputs": [
        {
          "output_type": "stream",
          "name": "stdout",
          "text": [
            "Attendee 'Alice' added to event 'Birthday Party'.\n",
            "Attendee 'Bob' added to event 'Birthday Party'.\n",
            "Total attendees: 2\n",
            "Attendee 'Charlie' added to event 'Music Concert'.\n",
            "Attendee 'Dave' added to event 'Music Concert'.\n",
            "Attendee 'Eve' added to event 'Music Concert'.\n",
            "Attendee 'Charlie' removed from event 'Music Concert'.\n",
            "\n",
            "Total attendees: 2\n"
          ]
        }
      ]
    },
    {
      "cell_type": "code",
      "source": [
        "# Q10.Write a code for Airline Reservation System using OOPS:\n",
        "# Create a Flight class that has attributes such as flight number, departur, and arrival airports, departur, and arrival times, and availabl, seats (private).\n",
        "# Implement methods to book a seat, cancel a reservation, and get the remaining available seats.\n",
        "# Use encapsulation to hide the flight's unique identification number.\n",
        "# Inherit from the Flight class to create a DomesticFlight class and an InternationalFlight class, ,each with their\n",
        "\n",
        "# Ans>>\n",
        "# Base class for flights\n",
        "class Flight:\n",
        "    _next_id = 1  # Class variable for generating unique IDs\n",
        "\n",
        "    def __init__(self, flight_number, departure_airport, arrival_airport, departure_time, arrival_time, total_seats):\n",
        "        self.__id = Flight._next_id\n",
        "        Flight._next_id += 1\n",
        "        self.flight_number = flight_number\n",
        "        self.departure_airport = departure_airport\n",
        "        self.arrival_airport = arrival_airport\n",
        "        self.departure_time = departure_time\n",
        "        self.arrival_time = arrival_time\n",
        "        self.__available_seats = total_seats  # Private attribute\n",
        "\n",
        "    def get_id(self):\n",
        "        return self.__id\n",
        "\n",
        "    def get_available_seats(self):\n",
        "        return self.__available_seats\n",
        "\n",
        "    def book_seat(self):\n",
        "        if self.__available_seats > 0:\n",
        "            self.__available_seats -= 1\n",
        "            print(f\"Seat booked on flight {self.flight_number}. Seats remaining: {self.__available_seats}\")\n",
        "        else:\n",
        "            print(f\"No available seats on flight {self.flight_number}.\")\n",
        "\n",
        "    def cancel_reservation(self):\n",
        "        self.__available_seats += 1\n",
        "        print(f\"Reservation canceled on flight {self.flight_number}. Seats remaining: {self.__available_seats}\")\n",
        "\n",
        "# Subclass for domestic flights\n",
        "class DomesticFlight(Flight):\n",
        "    def __init__(self, flight_number, departure_airport, arrival_airport, departure_time, arrival_time, total_seats):\n",
        "        super().__init__(flight_number, departure_airport, arrival_airport, departure_time, arrival_time, total_seats)\n",
        "\n",
        "    # Additional methods or attributes specific to domestic flights can be added here\n",
        "\n",
        "# Subclass for international flights\n",
        "class InternationalFlight(Flight):\n",
        "    def __init__(self, flight_number, departure_airport, arrival_airport, departure_time, arrival_time, total_seats, international_code):\n",
        "        super().__init__(flight_number, departure_airport, arrival_airport, departure_time, arrival_time, total_seats)\n",
        "        self.international_code = international_code\n",
        "\n",
        "    # Additional methods or attributes specific to international flights can be added here\n",
        "\n",
        "# Testing the system\n",
        "# Create a domestic flight\n",
        "domestic_flight = DomesticFlight(\n",
        "    flight_number=\"D123\",\n",
        "    departure_airport=\"JFK\",\n",
        "    arrival_airport=\"LAX\",\n",
        "    departure_time=\"2023-08-01 10:00\",\n",
        "    arrival_time=\"2023-08-01 13:00\",\n",
        "    total_seats=100\n",
        ")\n",
        "\n",
        "# Create an international flight\n",
        "international_flight = InternationalFlight(\n",
        "    flight_number=\"I456\",\n",
        "    departure_airport=\"JFK\",\n",
        "    arrival_airport=\"LHR\",\n",
        "    departure_time=\"2023-08-02 17:00\",\n",
        "    arrival_time=\"2023-08-03 06:00\",\n",
        "    total_seats=200,\n",
        "    international_code=\"INTL456\"\n",
        ")\n",
        "\n",
        "# Book seats on flights\n",
        "domestic_flight.book_seat()\n",
        "domestic_flight.book_seat()\n",
        "domestic_flight.cancel_reservation()\n",
        "print(f\"Available seats on {domestic_flight.flight_number}: {domestic_flight.get_available_seats()}\")\n",
        "\n",
        "international_flight.book_seat()\n",
        "international_flight.book_seat()\n",
        "international_flight.cancel_reservation()\n",
        "print(f\"Available seats on {international_flight.flight_number}: {international_flight.get_available_seats()}\")\n"
      ],
      "metadata": {
        "colab": {
          "base_uri": "https://localhost:8080/"
        },
        "id": "NwiEe7j-sT8m",
        "outputId": "29731da2-78a1-4a38-ac1f-4a24cab756a7"
      },
      "execution_count": 49,
      "outputs": [
        {
          "output_type": "stream",
          "name": "stdout",
          "text": [
            "Seat booked on flight D123. Seats remaining: 99\n",
            "Seat booked on flight D123. Seats remaining: 98\n",
            "Reservation canceled on flight D123. Seats remaining: 99\n",
            "Available seats on D123: 99\n",
            "Seat booked on flight I456. Seats remaining: 199\n",
            "Seat booked on flight I456. Seats remaining: 198\n",
            "Reservation canceled on flight I456. Seats remaining: 199\n",
            "Available seats on I456: 199\n"
          ]
        }
      ]
    },
    {
      "cell_type": "code",
      "source": [
        "# Q11. Define a Python module named constants.py containing constants like pi and the speed of light.\n",
        "# Ans>>\n",
        "PI = 3.141592653589793\n",
        "SPEED_OF_LIGHT = 299792458\n",
        "# from constants import PI, SPEED_OF_LIGHT\n",
        "\n",
        "print(f\"The value of pi is: {PI}\")\n",
        "print(f\"The speed of light is: {SPEED_OF_LIGHT} m/s\")\n"
      ],
      "metadata": {
        "id": "YlRKnLB8tup_",
        "colab": {
          "base_uri": "https://localhost:8080/"
        },
        "outputId": "17752fe3-d898-48e9-f83d-0dc79a4eb91e"
      },
      "execution_count": 50,
      "outputs": [
        {
          "output_type": "stream",
          "name": "stdout",
          "text": [
            "The value of pi is: 3.141592653589793\n",
            "The speed of light is: 299792458 m/s\n"
          ]
        }
      ]
    },
    {
      "source": [
        "import math  # Import the correct math module"
      ],
      "cell_type": "code",
      "metadata": {
        "id": "JBVAWcAneERL"
      },
      "execution_count": null,
      "outputs": []
    },
    {
      "cell_type": "code",
      "source": [
        "# Q.12. Write a Python module named calculator.py containing functions for addition, subtraction,multiplication, and division.\n",
        "# Ans>\n",
        "# calculator.py\n",
        "\n",
        "def add(a, b):\n",
        "    return a + b\n",
        "\n",
        "def subtract(a, b):\n",
        "    return a - b\n",
        "\n",
        "def multiply(a, b):\n",
        "    return a * b\n",
        "\n",
        "def divide(a, b):\n",
        "    if b == 0:\n",
        "        raise ValueError(\"Cannot divide by zero.\")\n",
        "    return a / b\n"
      ],
      "metadata": {
        "id": "z5xM5bqKd780"
      },
      "execution_count": 51,
      "outputs": []
    },
    {
      "cell_type": "code",
      "source": [
        "add(55,56)\n",
        "subtract(20,10)\n",
        "multiply(5,5)"
      ],
      "metadata": {
        "colab": {
          "base_uri": "https://localhost:8080/"
        },
        "id": "nSevtrv1e4-B",
        "outputId": "efb7b0a6-d320-44c3-a6cf-30e8bc494859"
      },
      "execution_count": null,
      "outputs": [
        {
          "output_type": "execute_result",
          "data": {
            "text/plain": [
              "25"
            ]
          },
          "metadata": {},
          "execution_count": 16
        }
      ]
    },
    {
      "cell_type": "code",
      "source": [
        "# Q Implement a Python package structure for a project named ecommerce, containing modules for product management and order processing.\n",
        "# Ans>>\n",
        "'''ecommerce/\n",
        "    __init__.py\n",
        "    products/\n",
        "        __init__.py\n",
        "        product.py\n",
        "        inventory.py\n",
        "    orders/\n",
        "        __init__.py\n",
        "        order.py\n",
        "        payment.py'''"
      ],
      "metadata": {
        "colab": {
          "base_uri": "https://localhost:8080/",
          "height": 36
        },
        "id": "-pbog4YTfzRD",
        "outputId": "385da140-5bf5-491c-e3f3-c3ef385f86c5"
      },
      "execution_count": 52,
      "outputs": [
        {
          "output_type": "execute_result",
          "data": {
            "text/plain": [
              "'ecommerce/\\n    __init__.py\\n    products/\\n        __init__.py\\n        product.py\\n        inventory.py\\n    orders/\\n        __init__.py\\n        order.py\\n        payment.py'"
            ],
            "application/vnd.google.colaboratory.intrinsic+json": {
              "type": "string"
            }
          },
          "metadata": {},
          "execution_count": 52
        }
      ]
    },
    {
      "cell_type": "code",
      "source": [
        "# Q14. Implement a Python module named string_utils.py containing functions for string manipulation, such as reversing and capitalizing strings.\n",
        "# Ans>>\n",
        "# string_utils.py\n",
        "\n",
        "def reverse_string(s):\n",
        "    return s[::-1]\n",
        "\n",
        "def capitalize_string(s):\n",
        "    return s.capitalize()\n",
        "\n",
        "def to_uppercase(s):\n",
        "    return s.upper()\n",
        "\n",
        "def to_lowercase(s):\n",
        "    return s.lower()\n",
        "\n",
        "def remove_whitespace(s):\n",
        "    return s.strip()\n",
        "\n",
        "print(reverse_string(\"hello\"))\n",
        "print(capitalize_string(\"hello world\"))\n",
        "print(to_uppercase(\"hello\"))\n",
        "print(to_lowercase(\"HELLO\"))\n",
        "print(remove_whitespace(\"  hello  \"))\n",
        "\n"
      ],
      "metadata": {
        "colab": {
          "base_uri": "https://localhost:8080/"
        },
        "id": "8L320pNMhf71",
        "outputId": "7b1a4060-b1bf-416b-de16-ab4f121b7b85"
      },
      "execution_count": 53,
      "outputs": [
        {
          "output_type": "stream",
          "name": "stdout",
          "text": [
            "olleh\n",
            "Hello world\n",
            "HELLO\n",
            "hello\n",
            "hello\n"
          ]
        }
      ]
    },
    {
      "cell_type": "code",
      "source": [
        "# Q 15. Write a Python module named file_operations.py with functions for reading, writing, and appending data to a file.\n",
        "# Ans>>\n",
        "# file_operations.py\n",
        "\n",
        "def read_file(file_path):\n",
        "    with open(file_path, 'r') as file:\n",
        "        content = file.read()\n",
        "    return content\n",
        "\n",
        "def write_file(file_path, data):\n",
        "    with open(file_path, 'w') as file:\n",
        "        file.write(data)\n",
        "\n",
        "def append_to_file(file_path, data):\n",
        "    with open(file_path, 'a') as file:\n",
        "        file.write(data)\n",
        "\n",
        "\n",
        "# from file_operations import read_file, write_file, append_to_file\n",
        "\n",
        "# Write data to a file\n",
        "write_file('example.txt', 'Hello, world!')\n",
        "\n",
        "# Append data to the file\n",
        "append_to_file('example.txt', '\\nThis is an additional line.')\n",
        "\n",
        "# Read data from the file\n",
        "content = read_file('example.txt')\n",
        "print(content)\n",
        "\n"
      ],
      "metadata": {
        "colab": {
          "base_uri": "https://localhost:8080/"
        },
        "id": "-pOMrEFtiGE3",
        "outputId": "eedfe8e4-c6cf-401a-b782-466c42a4be5e"
      },
      "execution_count": 54,
      "outputs": [
        {
          "output_type": "stream",
          "name": "stdout",
          "text": [
            "Hello, world!\n",
            "This is an additional line.\n"
          ]
        }
      ]
    },
    {
      "cell_type": "code",
      "source": [
        "# Q16. Write a Python program to create a text file named \"employees.txt\" and write the details of employees,including their name, age, and salary, into the file.\n",
        "# Ans>>\n",
        "# employees.py\n",
        "\n",
        "def write_employee_details_to_file(file_path, employees):\n",
        "    with open(file_path, 'w') as file:\n",
        "        for employee in employees:\n",
        "            name = employee['name']\n",
        "            age = employee['age']\n",
        "            salary = employee['salary']\n",
        "            file.write(f\"Name: {name}, Age: {age}, Salary: {salary}\\n\")\n",
        "\n",
        "if __name__ == \"__main__\":\n",
        "    # List of employee details\n",
        "    employees = [\n",
        "        {\"name\": \"Alice Smith\", \"age\": 30, \"salary\": 70000},\n",
        "        {\"name\": \"Bob Johnson\", \"age\": 45, \"salary\": 85000},\n",
        "        {\"name\": \"Carol White\", \"age\": 27, \"salary\": 65000},\n",
        "        {\"name\": \"David Brown\", \"age\": 50, \"salary\": 95000}\n",
        "    ]\n",
        "\n",
        "    # File path to write the employee details\n",
        "    file_path = \"employees.txt\"\n",
        "\n",
        "    # Write employee details to the file\n",
        "    write_employee_details_to_file(file_path, employees)\n",
        "\n",
        "    print(f\"Employee details have been written to {file_path}\")\n"
      ],
      "metadata": {
        "colab": {
          "base_uri": "https://localhost:8080/"
        },
        "id": "riPjaF3yiW31",
        "outputId": "d9874c0a-1769-4511-b820-9ad86933cf53"
      },
      "execution_count": 55,
      "outputs": [
        {
          "output_type": "stream",
          "name": "stdout",
          "text": [
            "Employee details have been written to employees.txt\n"
          ]
        }
      ]
    },
    {
      "cell_type": "code",
      "source": [
        "# Q17. Develop a Python script that opens an existing text file named \"inventory.txt\" in read mode and displays the contents of the file line by line.\n",
        "# Ans>>\n",
        "# read_inventory.py\n",
        "\n",
        "def read_inventory(file_path):\n",
        "    try:\n",
        "        with open(file_path, 'r') as file:\n",
        "            for line in file:\n",
        "                print(line.strip())\n",
        "    except FileNotFoundError:\n",
        "        print(f\"The file {file_path} does not exist.\")\n",
        "    except Exception as e:\n",
        "        print(f\"An error occurred while reading the file: {e}\")\n",
        "\n",
        "if __name__ == \"__main__\":\n",
        "    # Path to the inventory file\n",
        "    file_path = \"inventory.txt\"\n",
        "\n",
        "    # Read and display the contents of the file\n",
        "    read_inventory(file_path)\n"
      ],
      "metadata": {
        "colab": {
          "base_uri": "https://localhost:8080/"
        },
        "id": "zED6_FRPkUoe",
        "outputId": "1e69c30c-af46-4113-b740-608fbdcb03e3"
      },
      "execution_count": 56,
      "outputs": [
        {
          "output_type": "stream",
          "name": "stdout",
          "text": [
            "The file inventory.txt does not exist.\n"
          ]
        }
      ]
    },
    {
      "cell_type": "code",
      "source": [
        "# Q 18. Create a Python script that reads a text file named \"expenses.txt\" and calculates the total amount spent on various expenses listed in the file.\n",
        "# Ans>>\n",
        "# calculate_expenses.py\n",
        "\n",
        "def calculate_total_expenses(file_path):\n",
        "    total_expenses = 0.0\n",
        "    try:\n",
        "        with open(file_path, 'r') as file:\n",
        "            for line in file:\n",
        "                try:\n",
        "                    # Assuming each line contains an expense amount\n",
        "                    expense = float(line.strip())\n",
        "                    total_expenses += expense\n",
        "                except ValueError:\n",
        "                    print(f\"Could not convert line to float: {line.strip()}\")\n",
        "    except FileNotFoundError:\n",
        "        print(f\"The file {file_path} does not exist.\")\n",
        "    except Exception as e:\n",
        "        print(f\"An error occurred while reading the file: {e}\")\n",
        "\n",
        "    return total_expenses\n",
        "\n",
        "if __name__ == \"__main__\":\n",
        "    # Path to the expenses file\n",
        "    file_path = \"expenses.txt\"\n",
        "\n",
        "    # Calculate the total expenses\n",
        "    total = calculate_total_expenses(file_path)\n",
        "\n",
        "    # Display the total expenses\n",
        "    print(f\"Total expenses: ${total:.2f}\")\n"
      ],
      "metadata": {
        "colab": {
          "base_uri": "https://localhost:8080/"
        },
        "id": "ImtJW6l6lCsm",
        "outputId": "87ba7db7-5deb-4c7e-f8b4-763fb18f5ba6"
      },
      "execution_count": 57,
      "outputs": [
        {
          "output_type": "stream",
          "name": "stdout",
          "text": [
            "The file expenses.txt does not exist.\n",
            "Total expenses: $0.00\n"
          ]
        }
      ]
    },
    {
      "cell_type": "code",
      "source": [
        "# Q 19. Create a Python program that reads a text file named \"paragraph.txt\" and counts the occurrences of each word in the paragraph, displaying the results in alphabetical order.\n",
        "# Ans>>\n",
        "# word_count.py\n",
        "\n",
        "import string\n",
        "from collections import Counter\n",
        "\n",
        "def count_word_occurrences(file_path):\n",
        "    try:\n",
        "        with open(file_path, 'r') as file:\n",
        "            # Read the content of the file\n",
        "            text = file.read()\n",
        "\n",
        "            # Convert text to lowercase and remove punctuation\n",
        "            text = text.lower()\n",
        "            text = text.translate(str.maketrans('', '', string.punctuation))\n",
        "\n",
        "            # Tokenize the text into words\n",
        "            words = text.split()\n",
        "\n",
        "            # Count occurrences of each word\n",
        "            word_counts = Counter(words)\n",
        "\n",
        "            # Sort words alphabetically and display counts\n",
        "            for word in sorted(word_counts):\n",
        "                print(f\"{word}: {word_counts[word]}\")\n",
        "\n",
        "    except FileNotFoundError:\n",
        "        print(f\"The file {file_path} does not exist.\")\n",
        "    except Exception as e:\n",
        "        print(f\"An error occurred while processing the file: {e}\")\n",
        "\n",
        "if __name__ == \"__main__\":\n",
        "    # Path to the paragraph file\n",
        "    file_path = \"paragraph.txt\"\n",
        "\n",
        "    # Count word occurrences and display results\n",
        "    count_word_occurrences(file_path)\n"
      ],
      "metadata": {
        "colab": {
          "base_uri": "https://localhost:8080/"
        },
        "id": "uR_jeMUUlb8R",
        "outputId": "e718558e-adbc-4c08-eb13-98e893a035f0"
      },
      "execution_count": 58,
      "outputs": [
        {
          "output_type": "stream",
          "name": "stdout",
          "text": [
            "The file paragraph.txt does not exist.\n"
          ]
        }
      ]
    },
    {
      "cell_type": "code",
      "source": [],
      "metadata": {
        "id": "7Q0U0Pv2lsXU"
      },
      "execution_count": null,
      "outputs": []
    }
  ]
}